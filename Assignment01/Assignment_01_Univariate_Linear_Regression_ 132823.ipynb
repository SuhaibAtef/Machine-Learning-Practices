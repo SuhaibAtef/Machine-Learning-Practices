{
  "nbformat": 4,
  "nbformat_minor": 0,
  "metadata": {
    "colab": {
      "provenance": [],
      "collapsed_sections": []
    },
    "kernelspec": {
      "name": "python3",
      "display_name": "Python 3"
    },
    "language_info": {
      "name": "python"
    }
  },
  "cells": [
    {
      "cell_type": "markdown",
      "source": [
        "# Student Information\n",
        "\n",
        "Author: Suhaib Atef\n",
        "\n",
        "Student ID: 132823\n",
        "\n",
        "Section: 1\n",
        "\n",
        "Class: Special Topics CPE597 (10:30-11:30)\n",
        "\n",
        "Assignment Title: Univariate Linear Regression \n"
      ],
      "metadata": {
        "id": "muzRaM8VdoZF"
      }
    },
    {
      "cell_type": "markdown",
      "source": [
        "# **Introduction**\n",
        "In Solving this assignment, These are all the libraries needed to implement the gradient descent algorithm.\n",
        "\n",
        "\n",
        "> 1.   **Numpy** to handle all data arrays.\n",
        "\n",
        "> 2.   **Matplotlib** to plot all the data into figures for clarification.\n",
        "\n",
        "> 3.   **Warnings** to handle overflow warnings. \n",
        "\n",
        "\n",
        "\n"
      ],
      "metadata": {
        "id": "Jq0e9q-evyt8"
      }
    },
    {
      "cell_type": "code",
      "source": [
        "# Importing Libraries that we need\n",
        "\n",
        "import numpy as np    \n",
        "import matplotlib.pyplot as plt\n",
        "import warnings\n",
        "\n",
        "# This line tells the compiler that we want to treat our warnings like errors / exceptions.\n",
        "warnings.filterwarnings('error')"
      ],
      "metadata": {
        "id": "YkCKcSuVxZBh"
      },
      "execution_count": 153,
      "outputs": []
    },
    {
      "cell_type": "markdown",
      "source": [
        "# **The Task in our hand**\n",
        "\n",
        "\n",
        "\n",
        "1.   a. Find a Dataset online // b. Alternative -> Generate a linear dataset.\n",
        "2.   Define the requirement constants for the implementation.\n",
        "3.   Implement the Algorithm.\n",
        "4.   submit required data for the assignment.\n",
        "\n",
        "\n",
        "\n"
      ],
      "metadata": {
        "id": "7RQgp2P4acPO"
      }
    },
    {
      "cell_type": "markdown",
      "source": [
        "# 1.a Find a Dataset online\n",
        "\n",
        "Online Dataset found at: https://www.kaggle.com/datasets/andonians/random-linear-regression?resource=download\n",
        "\n",
        "or a link from My Google Drive: https://drive.google.com/drive/folders/1YfoVR648MV69stsZ_mTYi4FU1t3fvGi-?usp=sharing\n",
        "\n",
        "\n",
        ">   Important Note: Please insert your dataset in a folder called \"Datasets\" before you use it otherwise change the directory in the following code. \n",
        "\n",
        "The following code is about importing our data from the csv file into the directory:"
      ],
      "metadata": {
        "id": "9vym3bQVwMN7"
      }
    },
    {
      "cell_type": "code",
      "source": [
        "# Importing the dataset file into the directory using numpy \n",
        "dataset = np.genfromtxt('./Datasets/test.csv', delimiter=',')\n",
        "\n",
        "# NP.delete -> to delete to first row which holds the title of the columns\n",
        "X = np.delete(dataset[:,0], 0, axis=0)\n",
        "Y = np.delete(dataset[:,1], 0, axis=0)"
      ],
      "metadata": {
        "id": "F_3WAzstDmpc"
      },
      "execution_count": null,
      "outputs": []
    },
    {
      "cell_type": "markdown",
      "source": [
        "# 1.b Generate a Dataset\n",
        "\n",
        "You can generate the data using a linear equation with random\n",
        "noise so you do not get perfect linear data.\n",
        "\n",
        "our linear equation will be on the form:\n",
        ">  **Y(i) = w * X(i) + b**\n",
        "\n",
        "[Machine Learning Coursera Slide](https://i.imgur.com/8YHdylS.png)"
      ],
      "metadata": {
        "id": "WvKlVfB5dgCS"
      }
    },
    {
      "cell_type": "code",
      "source": [
        "# Important Parameters to consider before generating a dataset \n",
        "\n",
        "# For the linear equation\n",
        "w_parameter = 0.5  \n",
        "b_parameter = 1  \n",
        "\n",
        "# For the dataset\n",
        "numberOfValues = 25\n",
        "maxValue = 50\n",
        "\n",
        "# Generating the dataset \n",
        "'''\n",
        "  np.random.random -> generates a number between 0 and 1, so we multiply it by maxValue so we can get the Y-Range we wanted;\n",
        "\n",
        "  Parameter for the function is shape so we put [ number of Values wanted x 1] to generate a vector of random values;\n",
        "'''\n",
        "X = maxValue * np.random.random((numberOfValues, 1))\n",
        "Y = w_parameter * X + b_parameter + np.random.normal(size=X.shape)"
      ],
      "metadata": {
        "id": "HJLIxACRWh16"
      },
      "execution_count": 154,
      "outputs": []
    },
    {
      "cell_type": "markdown",
      "source": [
        "# 2. Define the requirement constants for the implementation."
      ],
      "metadata": {
        "id": "P6MBBWppiAOi"
      }
    },
    {
      "cell_type": "code",
      "source": [
        "# Constants \n",
        "'''\n",
        "  m: Number of records in the dataset.\n",
        "  learning_Rate: learning rate of the algorithm aka the pace of the function.\n",
        "  maxiterationNumber: So our program does not run to infinity or for long long time, we determine the max number of iterations.\n",
        "  accuracy: As humans we might consider 0.0001 equal to 0 but for the machine even 0.000000001 is not 0, due to that we here define the accuracy of our algorithm\n",
        "'''\n",
        "m = X.shape[0]\n",
        "learning_Rate = 0.001\n",
        "MaxiterationNumber=10000000\n",
        "accuracy = 1e-4"
      ],
      "metadata": {
        "id": "Sdv9n9gAJAeY"
      },
      "execution_count": 155,
      "outputs": []
    },
    {
      "cell_type": "markdown",
      "source": [
        "# 3.   **The Implementation of The Algorithm.**\n",
        "\n",
        "[Our Slide for the Algorithm pseudocode code](https://i.imgur.com/QH7ViJU.png)\n",
        "\n",
        "From the [slide](https://i.imgur.com/QH7ViJU.png) we realise the term convergence which we need to define before starting. \n",
        "\n",
        "In my code convergence is one of the following:\n",
        "\n",
        "\n",
        "1.   The Gradient of one parameter is equal to zero.\n",
        "2.   The cost is less than our accuracy measure. \n",
        "3.   The max iterations number is reached. \n",
        "\n",
        "Moreover, divergance happens if any element reached a (Overflow state  or infinty) which we consider as NaN->Not a Number.\n",
        "\n",
        "Now, we need to define functions for our assignment as follows:\n",
        "\n",
        "\n",
        "\n",
        "*   plotValues: Is responsible for ploting our line.\n",
        "*   Cost Function: In our algorithm and slides is called J and its the squared error method.  \n",
        ">   ( Prediction - Real Value) ^ 2\n",
        "\n",
        "*  Gradient: To calculate the gradient in the direction of w and b and check if any is equal to zero. \n",
        "\n",
        "* Algorithm function: to combine all parts from before into a working algorithm.\n",
        "\n",
        "\n",
        "\n",
        "\n",
        "\n"
      ],
      "metadata": {
        "id": "_IuPnwTji1Q9"
      }
    },
    {
      "cell_type": "code",
      "source": [
        "def plotValues(X,Y,w,b):\n",
        "  \"\"\"\n",
        "    Plots our line and dots for our dataset\n",
        "\n",
        "    Args:\n",
        "      X : inputs, m records,input feature \n",
        "      Y : target values,real output\n",
        "      w,b : linear equation parameters\n",
        "\n",
        "    Returns: Nothing \n",
        "\n",
        "  \"\"\"\n",
        "\n",
        "  # Create the line (2 parts)\n",
        "\n",
        "  #         1. create the x axis for the line using numpy \n",
        "  x_line = np.linspace(np.amin(X),np.amax(X))\n",
        "\n",
        "  #         2. create the y axis by maping x values into the linear function\n",
        "  y_line = np.array(list(map(lambda n: w*n+b, x_line)))\n",
        "\n",
        "  # Create the figure \n",
        "  plt.figure()\n",
        "  plt.title('Data Points and Linear Fit', color='C0') # Set Title \n",
        "  plt.plot(x_line, y_line,'C1',label='Linear Fit') # Plots the prediction line \n",
        "  plt.scatter(X, Y,color = '#88c999',label='Data Points') # Plots the data set values \n",
        "  plt.xlabel(\"X values\") # Set X-Axis label\n",
        "  plt.ylabel(\"Y values\") # Set Y-Axis label\n",
        "  plt.legend() # Enables Legend for the figure \n",
        "  plt.show()"
      ],
      "metadata": {
        "id": "vLxQ8HsdCgq2"
      },
      "execution_count": 156,
      "outputs": []
    },
    {
      "cell_type": "code",
      "source": [
        "def J(X,Y,w,b):\n",
        "    \"\"\"\n",
        "    calculates the cost for our algorithm \n",
        "\n",
        "    Args:\n",
        "      X : inputs, m records,input feature \n",
        "      Y : target values,real output\n",
        "      w,b : linear equation parameters\n",
        "\n",
        "    Returns:\n",
        "      cost : the cost of the current settings. \n",
        "\n",
        "    \"\"\"\n",
        "    # Cost = the avarage of the summation of the square distance difference from the the prediction value and the real data value divided by 2.\n",
        "\n",
        "    cost = 0\n",
        "    for i in range(m):\n",
        "        cost = cost + (w * X[i] + b - Y[i])**2\n",
        "    cost = 1 / (2 * m) * cost\n",
        "\n",
        "    return cost"
      ],
      "metadata": {
        "id": "LyRbiI53DygW"
      },
      "execution_count": 157,
      "outputs": []
    },
    {
      "cell_type": "code",
      "source": [
        "def Gradient(X,Y,old_w,old_b):\n",
        "    \"\"\"\n",
        "    Computes the gradient for linear regression algorithm \n",
        "    Args:\n",
        "      X : inputs, m records,input feature \n",
        "      Y : target values,real output\n",
        "      old_w,old_b : linear equation parameters\n",
        "\n",
        "    Returns:\n",
        "      wcost: The gradient of the cost for the parameters w\n",
        "      bcost: The gradient of the cost for the parameter b     \n",
        "      gotToALevelThatWeDontAcuallyCareAbout: a boolean value that ensures accuracy\n",
        "\n",
        "    \"\"\"\n",
        "\n",
        "    gotToALevelThatWeDontAcuallyCareAbout = False\n",
        "    wcost = 0\n",
        "    bcost =0 \n",
        "\n",
        "    # Gradient is the derivative of the cost equation with respect to the parameter \n",
        "    for i in range(m):\n",
        "      wcost = wcost + (old_w*X[i]+old_b - Y[i])*X[i]\n",
        "      bcost = bcost + (old_w*X[i]+old_b - Y[i])\n",
        "    \n",
        "    # To ensure accuracy \n",
        "    if (abs(wcost) <= accuracy ) or (abs(bcost) <= accuracy):\n",
        "      gotToALevelThatWeDontAcuallyCareAbout = True\n",
        "    \n",
        "    wcost = (1/m) * wcost\n",
        "    bcost = (1/m) * bcost\n",
        "    \n",
        "    return wcost,bcost,gotToALevelThatWeDontAcuallyCareAbout"
      ],
      "metadata": {
        "id": "6Im2SXA0EN7K"
      },
      "execution_count": 158,
      "outputs": []
    },
    {
      "cell_type": "code",
      "source": [
        "def Gradient_Descent_Algorithm(X,Y,old_w,old_b,costFunction,gradientFunction,iterationNumber,LearningRate): \n",
        "    \"\"\"\n",
        "    Basic implementation of the algorithm \n",
        "\n",
        "    Args:\n",
        "      X : inputs, m records,input feature \n",
        "      Y : target values,real output\n",
        "      old_w,old_b : linear equation parameters\n",
        "      costFunction : the cost function chosen for the algorithm; so if you wanted to change it now you can!\n",
        "      gradientFunction : the gradient function chosen for the algorithm; you may wanted to use more complex math instead of mine, now you can.\n",
        "      iterationNumber: Max number of iterations so our code does not run for ever. \n",
        "      LearningRate : A required parameter for the algorithm \n",
        "\n",
        "    Returns:\n",
        "      old_w: The new value for the parameter w after the algorithm \n",
        "      old_b: The new value for the parameter b after the algorithm  \n",
        "      costValues: A list that holds the cost values in each iteration and used for ploting \n",
        "      parametersValue: A list that holds the parameters w & b in each iteration and used for ploting \n",
        "\n",
        "    \"\"\"\n",
        "\n",
        "    # for plotting \n",
        "    costValues = []\n",
        "    parametersValue = []\n",
        "    \n",
        "    n = 0 # iteration counter \n",
        "\n",
        "    accuracyCheck = False # for the accuracy \n",
        "\n",
        "    while gradientFunction(X,Y,old_w,old_b)!=0 and (n<iterationNumber) and (not accuracyCheck) :\n",
        "\n",
        "      #Debuging purposes onle:         print(\"w:\",old_w,\"      b:\",old_b)\n",
        "      n+=1\n",
        "      wcost, bcost ,accuracyCheck=  gradientFunction(X,Y,old_w,old_b)\n",
        "      #Debuging purposes onle:         print(not np.isnan(old_w - LearningRate * wcost) and not np.isinf(old_w - LearningRate * wcost))\n",
        "\n",
        "      # To Catch overflow warnings:\n",
        "      try:\n",
        "        parametersValue.append([old_w,old_b])\n",
        "        costValues.append(costFunction(X,Y,old_w,old_b))\n",
        "        old_w -= (LearningRate * wcost)\n",
        "        old_b -= (LearningRate * bcost)\n",
        "      except Warning as e:\n",
        "        print(e)\n",
        "        break\n",
        "    \n",
        "    print(\"y-hat = \" ,old_w,\" * x +\",old_b,\"  iterations = \",len(costValues))\n",
        "    return old_w,old_b,costValues,parametersValue\n",
        "\n"
      ],
      "metadata": {
        "id": "zIQzdhhTFkyg"
      },
      "execution_count": 159,
      "outputs": []
    },
    {
      "cell_type": "markdown",
      "source": [
        "# 4.   Submit Required Data for the Assignment.\n"
      ],
      "metadata": {
        "id": "Fdu_8vORnAMI"
      }
    },
    {
      "cell_type": "markdown",
      "source": [
        "*   Plot the data points (scatter points) and the linear fit (solid line) you got in the same\n",
        "plot.\n",
        "\n",
        "\n",
        "\n",
        "\n"
      ],
      "metadata": {
        "id": "DNeLiVP1H-BQ"
      }
    },
    {
      "cell_type": "code",
      "source": [
        "\"\"\"\n",
        "    Args: \n",
        "    X: The input values \n",
        "    Y: The target output values \n",
        "    ([0],[0]): Initial values for w and b.\n",
        "    J: The cost function given to the algorithm \n",
        "    Gradient: The gradient function given to the algorithm \n",
        "    MaxiterationNumber: The number of iterations constant \n",
        "    learning_Rate: The learning rate constant\n",
        "\"\"\"\n",
        "# Calculate \n",
        "global_w,global_b,costs,parameters = Gradient_Descent_Algorithm(X,Y,[0],[0],J,Gradient,MaxiterationNumber,learning_Rate)\n",
        "# Plot\n",
        "plotValues(X,Y,global_w,global_w)\n"
      ],
      "metadata": {
        "colab": {
          "base_uri": "https://localhost:8080/",
          "height": 312
        },
        "id": "eGoLmYYSbt55",
        "outputId": "ac1343d3-b7d6-4e23-d5c5-f5e07c9130de"
      },
      "execution_count": 160,
      "outputs": [
        {
          "output_type": "stream",
          "name": "stdout",
          "text": [
            "y-hat =  [0.49575632]  * x + [1.23989057]   iterations =  27357\n"
          ]
        },
        {
          "output_type": "display_data",
          "data": {
            "text/plain": [
              "<Figure size 432x288 with 1 Axes>"
            ],
            "image/png": "[encoded data removed]"
          },
          "metadata": {
            "needs_background": "light"
          }
        }
      ]
    },
    {
      "cell_type": "markdown",
      "source": [
        "\n",
        "\n",
        "*   Plot the iteration number (x-axis) vs the cost function 𝐽(𝜃) (y-axis value for three values of the learning rate:\n",
        "\n",
        "1. Small one leading to too many iteration for convergence.\n",
        "2. Good one leading to reasonable convergence.\n",
        "3. Large one causing divergence.\n",
        "\n",
        "\n",
        "All these should appear on the same plot.\n",
        "\n",
        "\n",
        "---\n",
        "\n",
        "\n",
        "we will first calculate the algorithm for all the learning rates values then plot them in one figure and finally plot the iteration number vs the cost. \n",
        "\n"
      ],
      "metadata": {
        "id": "Xsm_zwSRyDln"
      }
    },
    {
      "cell_type": "markdown",
      "source": [
        "* Calculate the algorithm for all the learning rates values"
      ],
      "metadata": {
        "id": "ePBOOVAm0kJ3"
      }
    },
    {
      "cell_type": "code",
      "source": [
        "# Calculating the algorithm with different values for the learning rate as follows \n",
        "\n",
        "\"\"\"\n",
        "    * Underfit --> learning rate is small and equal to 0.0000001\n",
        "    * Fit --> learning rate is normal and equal to 0.001\n",
        "    * Overfit --> learning rate is large and equal to 0.1\n",
        "\"\"\"\n",
        "\n",
        "w_underfit,b_underfit,costs_underfit,parameters_underfit = Gradient_Descent_Algorithm(X,Y,[0],[0],J,Gradient,MaxiterationNumber,0.0000001)\n",
        "w_fit,b_fit,costs_fit,parameters_fit = Gradient_Descent_Algorithm(X,Y,[0],[0],J,Gradient,MaxiterationNumber,0.001)\n",
        "w_overfit,b_overfit,costs_overfit,parameters_overfit = Gradient_Descent_Algorithm(X,Y,[0],[0],J,Gradient,MaxiterationNumber,0.1)\n",
        "\n",
        "\n"
      ],
      "metadata": {
        "colab": {
          "base_uri": "https://localhost:8080/"
        },
        "id": "6MprblzWJpcK",
        "outputId": "49943709-d4fd-4bc2-d38f-73c2aa88ba35"
      },
      "execution_count": 161,
      "outputs": [
        {
          "output_type": "stream",
          "name": "stdout",
          "text": [
            "y-hat =  [0.53360378]  * x + [0.02162182]   iterations =  142367\n",
            "y-hat =  [0.49575632]  * x + [1.23989057]   iterations =  27357\n",
            "overflow encountered in add\n",
            "y-hat =  [-2.25640352e+152]  * x + [-7.0126358e+150]   iterations =  82\n"
          ]
        }
      ]
    },
    {
      "cell_type": "markdown",
      "source": [
        "* Plot them in one figure"
      ],
      "metadata": {
        "id": "lBFSM1Ak0n2a"
      }
    },
    {
      "cell_type": "code",
      "source": [
        "# Plot them in one figure\n",
        "\n",
        "# Figure properties \n",
        "plt.figure()\n",
        "plt.title('Data Points and Linear Fit', color='C0')\n",
        "plt.xlabel(\"X values\")\n",
        "plt.ylabel(\"Y values\")\n",
        "\n",
        "# Creating the common x-axis line for the figure.\n",
        "x_line = np.linspace(np.amin(X),np.amax(X))\n",
        "\n",
        "# Calculating the y-axis value for each learning rate.\n",
        "y_underfit = np.array(list(map(lambda n: w_underfit*n+b_underfit, x_line)))\n",
        "plt.plot(x_line, y_underfit,'C1',label='Small Learning Rate')\n",
        "\n",
        "y_fit = np.array(list(map(lambda n: w_fit*n+b_fit, x_line)))\n",
        "plt.plot(x_line, y_fit,'C3',label='Normal Learning Rate')\n",
        "\n",
        "#           Comment this 2 line for better comparing result\n",
        "y_overfit = np.array(list(map(lambda n: w_overfit*n+b_overfit, x_line)))\n",
        "plt.plot(x_line, y_overfit,'C2',label='Large Learning Rate')\n",
        "\n",
        "# Ploting the original dataset in the figure \n",
        "plt.scatter(X, Y,color = '#88c999',label='Data Points')\n",
        "\n",
        "\n",
        "plt.legend()\n",
        "plt.show()"
      ],
      "metadata": {
        "colab": {
          "base_uri": "https://localhost:8080/",
          "height": 295
        },
        "id": "y6C03uGxN56k",
        "outputId": "dc20d8b0-fe45-4f90-ebe7-4fa4ec0e3c22"
      },
      "execution_count": 152,
      "outputs": [
        {
          "output_type": "display_data",
          "data": {
            "text/plain": [
              "<Figure size 432x288 with 1 Axes>"
            ],
            "image/png": "[encoded data removed]"
          },
          "metadata": {
            "needs_background": "light"
          }
        }
      ]
    },
    {
      "cell_type": "markdown",
      "source": [
        "* Plot the iteration number vs the cost"
      ],
      "metadata": {
        "id": "NrbKUUrp1Ry1"
      }
    },
    {
      "cell_type": "code",
      "source": [
        "# Plot the iteration number vs the cost\n",
        "\n",
        "# Figure Properties \n",
        "plt.figure()\n",
        "plt.title('Cost vs Iterations', color='C0')\n",
        "plt.xlabel(\"Iterations\")\n",
        "plt.ylabel(\"Costs\")\n",
        "\n",
        "# Creating x-axis values for the lines\n",
        "x_underfit = [*range(len(costs_underfit))]\n",
        "x_fit = [*range(len(costs_fit))]\n",
        "x_overfit = [*range(len(costs_overfit))]\n",
        "\n",
        "# Creating y-axis value for the lines \n",
        "y_underfit = np.array(costs_underfit[:])\n",
        "y_fit = np.array(costs_fit)\n",
        "y_overfit = np.array(costs_overfit)\n",
        "\n",
        "# Ploting Lines \n",
        "plt.plot(x_underfit, y_underfit,'C1',label='(Small Learning Rate)')\n",
        "plt.plot(x_fit, y_fit,'C2',label='(Normal Learning Rate)')\n",
        "plt.plot(x_overfit, y_overfit,'C3',label='(Large Learning Rate)')\n",
        "\n",
        "\n",
        "plt.legend()\n",
        "plt.show()\n"
      ],
      "metadata": {
        "colab": {
          "base_uri": "https://localhost:8080/",
          "height": 295
        },
        "id": "VDQsTV7cN3DZ",
        "outputId": "b1459355-625d-483b-b2f5-238753d603f5"
      },
      "execution_count": 162,
      "outputs": [
        {
          "output_type": "display_data",
          "data": {
            "text/plain": [
              "<Figure size 432x288 with 1 Axes>"
            ],
            "image/png": "[encoded data removed]"
          },
          "metadata": {
            "needs_background": "light"
          }
        }
      ]
    },
    {
      "cell_type": "markdown",
      "source": [
        "* Iterations Number vs The Cost for the small Learning Rate"
      ],
      "metadata": {
        "id": "VZVUPWeA15sF"
      }
    },
    {
      "cell_type": "code",
      "source": [
        "plt.figure()\n",
        "plt.title('Cost vs Iterations (Small Learning Rate)', color='C0')\n",
        "plt.plot(x_underfit, y_underfit,'C1',label='Small Learning Rate')\n",
        "plt.xlabel(\"Iterations\")\n",
        "plt.ylabel(\"Costs\")\n",
        "plt.legend()\n",
        "plt.show()"
      ],
      "metadata": {
        "colab": {
          "base_uri": "https://localhost:8080/",
          "height": 295
        },
        "id": "FAc3JbogeoWZ",
        "outputId": "a580511d-0900-43dc-bd12-e5ebcb9067cd"
      },
      "execution_count": 163,
      "outputs": [
        {
          "output_type": "display_data",
          "data": {
            "text/plain": [
              "<Figure size 432x288 with 1 Axes>"
            ],
            "image/png": "[encoded data removed]"
          },
          "metadata": {
            "needs_background": "light"
          }
        }
      ]
    },
    {
      "cell_type": "markdown",
      "source": [
        "* Iterations Number vs The Cost for the normal Learning Rate"
      ],
      "metadata": {
        "id": "3aLcHoLx2Eqr"
      }
    },
    {
      "cell_type": "code",
      "source": [
        "plt.figure()\n",
        "plt.title('Cost vs Iterations (Normal Learning Rate)', color='C0')\n",
        "plt.plot(x_fit, y_fit,'C2',label='Normal Learning Rate')\n",
        "plt.xlabel(\"Iterations\")\n",
        "plt.ylabel(\"Costs\")\n",
        "plt.legend()\n",
        "plt.show()"
      ],
      "metadata": {
        "colab": {
          "base_uri": "https://localhost:8080/",
          "height": 295
        },
        "id": "32cdHs5uex-v",
        "outputId": "b8dbf71b-81c4-4493-d8de-bc7dc3bfae32"
      },
      "execution_count": 164,
      "outputs": [
        {
          "output_type": "display_data",
          "data": {
            "text/plain": [
              "<Figure size 432x288 with 1 Axes>"
            ],
            "image/png": "[encoded data removed]"
          },
          "metadata": {
            "needs_background": "light"
          }
        }
      ]
    },
    {
      "cell_type": "markdown",
      "source": [
        "* Iterations Number vs The Cost for the large Learning Rate"
      ],
      "metadata": {
        "id": "8bCZoGgE2GtH"
      }
    },
    {
      "cell_type": "code",
      "source": [
        "plt.figure()\n",
        "plt.title('Cost vs Iterations (Large Learning Rate)', color='C0')\n",
        "plt.plot(x_overfit, y_overfit,'C3',label='Large Learning Rate')\n",
        "plt.xlabel(\"Iterations\")\n",
        "plt.ylabel(\"Costs\")\n",
        "plt.legend()\n",
        "plt.show()"
      ],
      "metadata": {
        "colab": {
          "base_uri": "https://localhost:8080/",
          "height": 295
        },
        "id": "cVyp1pBvezBl",
        "outputId": "27b8ae23-72e1-45bc-af27-ef13f1fcc53e"
      },
      "execution_count": 165,
      "outputs": [
        {
          "output_type": "display_data",
          "data": {
            "text/plain": [
              "<Figure size 432x288 with 1 Axes>"
            ],
            "image/png": "[encoded data removed]"
          },
          "metadata": {
            "needs_background": "light"
          }
        }
      ]
    },
    {
      "cell_type": "markdown",
      "source": [
        "# The Values of 𝜃0 (aka b) & 𝜃1 (aka w), and R^2\n"
      ],
      "metadata": {
        "id": "nAsXW-vH2Miz"
      }
    },
    {
      "cell_type": "code",
      "source": [
        "# I only wanted to show the first 100 row thats why I made this variable \n",
        "\n",
        "numberOfRows = 100"
      ],
      "metadata": {
        "id": "Pvvpcv1X2wxL"
      },
      "execution_count": 166,
      "outputs": []
    },
    {
      "cell_type": "markdown",
      "source": [
        "* Values of w,b, and R^2 for the original algorithm  :\n",
        "\n"
      ],
      "metadata": {
        "id": "H-t6OmxS2hTe"
      }
    },
    {
      "cell_type": "code",
      "source": [
        "x= np.array(parameters)\n",
        "y= np.array(costs)\n",
        "for i in range(len(costs[:min(numberOfRows,len(costs))])):\n",
        "  print(\"w value: \",x[i][0][0],\"    b value:    \",x[i][1][0],\"cost (R^2):\",y[i][0])\n"
      ],
      "metadata": {
        "colab": {
          "base_uri": "https://localhost:8080/"
        },
        "id": "fzb2WAaAic15",
        "outputId": "427532a1-64a6-4175-fd3e-cc0500fbecb4"
      },
      "execution_count": 167,
      "outputs": [
        {
          "output_type": "stream",
          "name": "stdout",
          "text": [
            "w value:  0.0     b value:     0.0 cost (R^2): 105.61345257508003\n",
            "w value:  0.49575632443277406     b value:     1.239890572849042 cost (R^2): 7.865435338433512\n",
            "w value:  0.49575632443277406     b value:     1.239890572849042 cost (R^2): 1.083431994649357\n",
            "w value:  0.49575632443277406     b value:     1.239890572849042 cost (R^2): 0.6127708945240703\n",
            "w value:  0.49575632443277406     b value:     1.239890572849042 cost (R^2): 0.5799991217784372\n",
            "w value:  0.49575632443277406     b value:     1.239890572849042 cost (R^2): 0.5776087564032285\n",
            "w value:  0.49575632443277406     b value:     1.239890572849042 cost (R^2): 0.5773263607032676\n",
            "w value:  0.49575632443277406     b value:     1.239890572849042 cost (R^2): 0.577190286193525\n",
            "w value:  0.49575632443277406     b value:     1.239890572849042 cost (R^2): 0.5770644310724442\n",
            "w value:  0.49575632443277406     b value:     1.239890572849042 cost (R^2): 0.5769393523782601\n",
            "w value:  0.49575632443277406     b value:     1.239890572849042 cost (R^2): 0.5768143949067996\n",
            "w value:  0.49575632443277406     b value:     1.239890572849042 cost (R^2): 0.5766895131601418\n",
            "w value:  0.49575632443277406     b value:     1.239890572849042 cost (R^2): 0.5765647039426118\n",
            "w value:  0.49575632443277406     b value:     1.239890572849042 cost (R^2): 0.5764399669935452\n",
            "w value:  0.49575632443277406     b value:     1.239890572849042 cost (R^2): 0.576315302255932\n",
            "w value:  0.49575632443277406     b value:     1.239890572849042 cost (R^2): 0.5761907096869171\n",
            "w value:  0.49575632443277406     b value:     1.239890572849042 cost (R^2): 0.5760661892446486\n",
            "w value:  0.49575632443277406     b value:     1.239890572849042 cost (R^2): 0.5759417408873678\n",
            "w value:  0.49575632443277406     b value:     1.239890572849042 cost (R^2): 0.5758173645733435\n",
            "w value:  0.49575632443277406     b value:     1.239890572849042 cost (R^2): 0.5756930602608711\n",
            "w value:  0.49575632443277406     b value:     1.239890572849042 cost (R^2): 0.575568827908267\n",
            "w value:  0.49575632443277406     b value:     1.239890572849042 cost (R^2): 0.5754446674738751\n",
            "w value:  0.49575632443277406     b value:     1.239890572849042 cost (R^2): 0.5753205789160609\n",
            "w value:  0.49575632443277406     b value:     1.239890572849042 cost (R^2): 0.5751965621932157\n",
            "w value:  0.49575632443277406     b value:     1.239890572849042 cost (R^2): 0.5750726172637544\n",
            "w value:  0.49575632443277406     b value:     1.239890572849042 cost (R^2): 0.5749487440861141\n",
            "w value:  0.49575632443277406     b value:     1.239890572849042 cost (R^2): 0.5748249426187592\n",
            "w value:  0.49575632443277406     b value:     1.239890572849042 cost (R^2): 0.574701212820176\n",
            "w value:  0.49575632443277406     b value:     1.239890572849042 cost (R^2): 0.5745775546488757\n",
            "w value:  0.49575632443277406     b value:     1.239890572849042 cost (R^2): 0.574453968063393\n",
            "w value:  0.49575632443277406     b value:     1.239890572849042 cost (R^2): 0.5743304530222869\n",
            "w value:  0.49575632443277406     b value:     1.239890572849042 cost (R^2): 0.57420700948414\n",
            "w value:  0.49575632443277406     b value:     1.239890572849042 cost (R^2): 0.5740836374075591\n",
            "w value:  0.49575632443277406     b value:     1.239890572849042 cost (R^2): 0.5739603367511757\n",
            "w value:  0.49575632443277406     b value:     1.239890572849042 cost (R^2): 0.5738371074736436\n",
            "w value:  0.49575632443277406     b value:     1.239890572849042 cost (R^2): 0.5737139495336433\n",
            "w value:  0.49575632443277406     b value:     1.239890572849042 cost (R^2): 0.5735908628898748\n",
            "w value:  0.49575632443277406     b value:     1.239890572849042 cost (R^2): 0.5734678475010678\n",
            "w value:  0.49575632443277406     b value:     1.239890572849042 cost (R^2): 0.5733449033259701\n",
            "w value:  0.49575632443277406     b value:     1.239890572849042 cost (R^2): 0.5732220303233568\n",
            "w value:  0.49575632443277406     b value:     1.239890572849042 cost (R^2): 0.5730992284520268\n",
            "w value:  0.49575632443277406     b value:     1.239890572849042 cost (R^2): 0.5729764976708017\n",
            "w value:  0.49575632443277406     b value:     1.239890572849042 cost (R^2): 0.5728538379385271\n",
            "w value:  0.49575632443277406     b value:     1.239890572849042 cost (R^2): 0.5727312492140725\n",
            "w value:  0.49575632443277406     b value:     1.239890572849042 cost (R^2): 0.5726087314563316\n",
            "w value:  0.49575632443277406     b value:     1.239890572849042 cost (R^2): 0.5724862846242228\n",
            "w value:  0.49575632443277406     b value:     1.239890572849042 cost (R^2): 0.5723639086766857\n",
            "w value:  0.49575632443277406     b value:     1.239890572849042 cost (R^2): 0.5722416035726859\n",
            "w value:  0.49575632443277406     b value:     1.239890572849042 cost (R^2): 0.572119369271213\n",
            "w value:  0.49575632443277406     b value:     1.239890572849042 cost (R^2): 0.5719972057312768\n",
            "w value:  0.49575632443277406     b value:     1.239890572849042 cost (R^2): 0.5718751129119151\n",
            "w value:  0.49575632443277406     b value:     1.239890572849042 cost (R^2): 0.5717530907721884\n",
            "w value:  0.49575632443277406     b value:     1.239890572849042 cost (R^2): 0.5716311392711787\n",
            "w value:  0.49575632443277406     b value:     1.239890572849042 cost (R^2): 0.5715092583679936\n",
            "w value:  0.49575632443277406     b value:     1.239890572849042 cost (R^2): 0.571387448021764\n",
            "w value:  0.49575632443277406     b value:     1.239890572849042 cost (R^2): 0.5712657081916449\n",
            "w value:  0.49575632443277406     b value:     1.239890572849042 cost (R^2): 0.5711440388368141\n",
            "w value:  0.49575632443277406     b value:     1.239890572849042 cost (R^2): 0.5710224399164728\n",
            "w value:  0.49575632443277406     b value:     1.239890572849042 cost (R^2): 0.5709009113898473\n",
            "w value:  0.49575632443277406     b value:     1.239890572849042 cost (R^2): 0.570779453216187\n",
            "w value:  0.49575632443277406     b value:     1.239890572849042 cost (R^2): 0.5706580653547627\n",
            "w value:  0.49575632443277406     b value:     1.239890572849042 cost (R^2): 0.5705367477648722\n",
            "w value:  0.49575632443277406     b value:     1.239890572849042 cost (R^2): 0.5704155004058354\n",
            "w value:  0.49575632443277406     b value:     1.239890572849042 cost (R^2): 0.5702943232369942\n",
            "w value:  0.49575632443277406     b value:     1.239890572849042 cost (R^2): 0.5701732162177167\n",
            "w value:  0.49575632443277406     b value:     1.239890572849042 cost (R^2): 0.570052179307392\n",
            "w value:  0.49575632443277406     b value:     1.239890572849042 cost (R^2): 0.5699312124654353\n",
            "w value:  0.49575632443277406     b value:     1.239890572849042 cost (R^2): 0.5698103156512836\n",
            "w value:  0.49575632443277406     b value:     1.239890572849042 cost (R^2): 0.5696894888243974\n",
            "w value:  0.49575632443277406     b value:     1.239890572849042 cost (R^2): 0.5695687319442607\n",
            "w value:  0.49575632443277406     b value:     1.239890572849042 cost (R^2): 0.5694480449703824\n",
            "w value:  0.49575632443277406     b value:     1.239890572849042 cost (R^2): 0.5693274278622926\n",
            "w value:  0.49575632443277406     b value:     1.239890572849042 cost (R^2): 0.5692068805795468\n",
            "w value:  0.49575632443277406     b value:     1.239890572849042 cost (R^2): 0.5690864030817219\n",
            "w value:  0.49575632443277406     b value:     1.239890572849042 cost (R^2): 0.5689659953284207\n",
            "w value:  0.49575632443277406     b value:     1.239890572849042 cost (R^2): 0.5688456572792675\n",
            "w value:  0.49575632443277406     b value:     1.239890572849042 cost (R^2): 0.5687253888939099\n",
            "w value:  0.49575632443277406     b value:     1.239890572849042 cost (R^2): 0.5686051901320205\n",
            "w value:  0.49575632443277406     b value:     1.239890572849042 cost (R^2): 0.5684850609532937\n",
            "w value:  0.49575632443277406     b value:     1.239890572849042 cost (R^2): 0.5683650013174474\n",
            "w value:  0.49575632443277406     b value:     1.239890572849042 cost (R^2): 0.5682450111842234\n",
            "w value:  0.49575632443277406     b value:     1.239890572849042 cost (R^2): 0.5681250905133873\n",
            "w value:  0.49575632443277406     b value:     1.239890572849042 cost (R^2): 0.568005239264726\n",
            "w value:  0.49575632443277406     b value:     1.239890572849042 cost (R^2): 0.5678854573980527\n",
            "w value:  0.49575632443277406     b value:     1.239890572849042 cost (R^2): 0.5677657448732\n",
            "w value:  0.49575632443277406     b value:     1.239890572849042 cost (R^2): 0.5676461016500276\n",
            "w value:  0.49575632443277406     b value:     1.239890572849042 cost (R^2): 0.5675265276884152\n",
            "w value:  0.49575632443277406     b value:     1.239890572849042 cost (R^2): 0.5674070229482686\n",
            "w value:  0.49575632443277406     b value:     1.239890572849042 cost (R^2): 0.567287587389515\n",
            "w value:  0.49575632443277406     b value:     1.239890572849042 cost (R^2): 0.5671682209721046\n",
            "w value:  0.49575632443277406     b value:     1.239890572849042 cost (R^2): 0.567048923656012\n",
            "w value:  0.49575632443277406     b value:     1.239890572849042 cost (R^2): 0.5669296954012348\n",
            "w value:  0.49575632443277406     b value:     1.239890572849042 cost (R^2): 0.5668105361677921\n",
            "w value:  0.49575632443277406     b value:     1.239890572849042 cost (R^2): 0.5666914459157287\n",
            "w value:  0.49575632443277406     b value:     1.239890572849042 cost (R^2): 0.5665724246051108\n",
            "w value:  0.49575632443277406     b value:     1.239890572849042 cost (R^2): 0.5664534721960276\n",
            "w value:  0.49575632443277406     b value:     1.239890572849042 cost (R^2): 0.5663345886485921\n",
            "w value:  0.49575632443277406     b value:     1.239890572849042 cost (R^2): 0.5662157739229409\n",
            "w value:  0.49575632443277406     b value:     1.239890572849042 cost (R^2): 0.5660970279792332\n",
            "w value:  0.49575632443277406     b value:     1.239890572849042 cost (R^2): 0.5659783507776498\n"
          ]
        }
      ]
    },
    {
      "cell_type": "markdown",
      "source": [
        "* Values of w,b, and R^2 for the algorithm with small learning rate  :\n",
        "\n"
      ],
      "metadata": {
        "id": "wA5xi5Hf3P0K"
      }
    },
    {
      "cell_type": "code",
      "source": [
        "x= np.array(parameters_underfit)\n",
        "y= np.array(costs_underfit)\n",
        "for i in range(len(costs_underfit[:min(numberOfRows,len(costs_underfit))])):\n",
        "  print(\"w value: \",x[i][0][0],\"    b value:    \",x[i][1][0],\"cost (R^2):\",y[i][0])\n"
      ],
      "metadata": {
        "colab": {
          "base_uri": "https://localhost:8080/"
        },
        "id": "oLu1HLDLYvGx",
        "outputId": "37a25d7f-a1f6-4d11-cc86-6cfc0e07eae3"
      },
      "execution_count": 168,
      "outputs": [
        {
          "output_type": "stream",
          "name": "stdout",
          "text": [
            "w value:  0.0     b value:     0.0 cost (R^2): 105.61345257508003\n",
            "w value:  0.5336037755496394     b value:     0.0216218227858182 cost (R^2): 105.59797938964635\n",
            "w value:  0.5336037755496394     b value:     0.0216218227858182 cost (R^2): 105.58250848362621\n",
            "w value:  0.5336037755496394     b value:     0.0216218227858182 cost (R^2): 105.56703985668378\n",
            "w value:  0.5336037755496394     b value:     0.0216218227858182 cost (R^2): 105.55157350848339\n",
            "w value:  0.5336037755496394     b value:     0.0216218227858182 cost (R^2): 105.5361094386893\n",
            "w value:  0.5336037755496394     b value:     0.0216218227858182 cost (R^2): 105.52064764696587\n",
            "w value:  0.5336037755496394     b value:     0.0216218227858182 cost (R^2): 105.5051881329775\n",
            "w value:  0.5336037755496394     b value:     0.0216218227858182 cost (R^2): 105.4897308963887\n",
            "w value:  0.5336037755496394     b value:     0.0216218227858182 cost (R^2): 105.47427593686393\n",
            "w value:  0.5336037755496394     b value:     0.0216218227858182 cost (R^2): 105.45882325406778\n",
            "w value:  0.5336037755496394     b value:     0.0216218227858182 cost (R^2): 105.44337284766482\n",
            "w value:  0.5336037755496394     b value:     0.0216218227858182 cost (R^2): 105.42792471731971\n",
            "w value:  0.5336037755496394     b value:     0.0216218227858182 cost (R^2): 105.41247886269723\n",
            "w value:  0.5336037755496394     b value:     0.0216218227858182 cost (R^2): 105.39703528346203\n",
            "w value:  0.5336037755496394     b value:     0.0216218227858182 cost (R^2): 105.38159397927895\n",
            "w value:  0.5336037755496394     b value:     0.0216218227858182 cost (R^2): 105.36615494981287\n",
            "w value:  0.5336037755496394     b value:     0.0216218227858182 cost (R^2): 105.35071819472869\n",
            "w value:  0.5336037755496394     b value:     0.0216218227858182 cost (R^2): 105.3352837136913\n",
            "w value:  0.5336037755496394     b value:     0.0216218227858182 cost (R^2): 105.31985150636574\n",
            "w value:  0.5336037755496394     b value:     0.0216218227858182 cost (R^2): 105.30442157241708\n",
            "w value:  0.5336037755496394     b value:     0.0216218227858182 cost (R^2): 105.28899391151046\n",
            "w value:  0.5336037755496394     b value:     0.0216218227858182 cost (R^2): 105.27356852331096\n",
            "w value:  0.5336037755496394     b value:     0.0216218227858182 cost (R^2): 105.25814540748374\n",
            "w value:  0.5336037755496394     b value:     0.0216218227858182 cost (R^2): 105.24272456369413\n",
            "w value:  0.5336037755496394     b value:     0.0216218227858182 cost (R^2): 105.22730599160742\n",
            "w value:  0.5336037755496394     b value:     0.0216218227858182 cost (R^2): 105.21188969088894\n",
            "w value:  0.5336037755496394     b value:     0.0216218227858182 cost (R^2): 105.19647566120402\n",
            "w value:  0.5336037755496394     b value:     0.0216218227858182 cost (R^2): 105.18106390221821\n",
            "w value:  0.5336037755496394     b value:     0.0216218227858182 cost (R^2): 105.16565441359698\n",
            "w value:  0.5336037755496394     b value:     0.0216218227858182 cost (R^2): 105.15024719500583\n",
            "w value:  0.5336037755496394     b value:     0.0216218227858182 cost (R^2): 105.13484224611038\n",
            "w value:  0.5336037755496394     b value:     0.0216218227858182 cost (R^2): 105.11943956657629\n",
            "w value:  0.5336037755496394     b value:     0.0216218227858182 cost (R^2): 105.10403915606923\n",
            "w value:  0.5336037755496394     b value:     0.0216218227858182 cost (R^2): 105.08864101425492\n",
            "w value:  0.5336037755496394     b value:     0.0216218227858182 cost (R^2): 105.07324514079919\n",
            "w value:  0.5336037755496394     b value:     0.0216218227858182 cost (R^2): 105.05785153536785\n",
            "w value:  0.5336037755496394     b value:     0.0216218227858182 cost (R^2): 105.04246019762681\n",
            "w value:  0.5336037755496394     b value:     0.0216218227858182 cost (R^2): 105.02707112724202\n",
            "w value:  0.5336037755496394     b value:     0.0216218227858182 cost (R^2): 105.01168432387945\n",
            "w value:  0.5336037755496394     b value:     0.0216218227858182 cost (R^2): 104.99629978720506\n",
            "w value:  0.5336037755496394     b value:     0.0216218227858182 cost (R^2): 104.98091751688507\n",
            "w value:  0.5336037755496394     b value:     0.0216218227858182 cost (R^2): 104.96553751258557\n",
            "w value:  0.5336037755496394     b value:     0.0216218227858182 cost (R^2): 104.95015977397267\n",
            "w value:  0.5336037755496394     b value:     0.0216218227858182 cost (R^2): 104.93478430071268\n",
            "w value:  0.5336037755496394     b value:     0.0216218227858182 cost (R^2): 104.91941109247189\n",
            "w value:  0.5336037755496394     b value:     0.0216218227858182 cost (R^2): 104.90404014891654\n",
            "w value:  0.5336037755496394     b value:     0.0216218227858182 cost (R^2): 104.88867146971312\n",
            "w value:  0.5336037755496394     b value:     0.0216218227858182 cost (R^2): 104.87330505452798\n",
            "w value:  0.5336037755496394     b value:     0.0216218227858182 cost (R^2): 104.85794090302767\n",
            "w value:  0.5336037755496394     b value:     0.0216218227858182 cost (R^2): 104.84257901487861\n",
            "w value:  0.5336037755496394     b value:     0.0216218227858182 cost (R^2): 104.82721938974748\n",
            "w value:  0.5336037755496394     b value:     0.0216218227858182 cost (R^2): 104.81186202730089\n",
            "w value:  0.5336037755496394     b value:     0.0216218227858182 cost (R^2): 104.79650692720547\n",
            "w value:  0.5336037755496394     b value:     0.0216218227858182 cost (R^2): 104.78115408912798\n",
            "w value:  0.5336037755496394     b value:     0.0216218227858182 cost (R^2): 104.7658035127352\n",
            "w value:  0.5336037755496394     b value:     0.0216218227858182 cost (R^2): 104.75045519769392\n",
            "w value:  0.5336037755496394     b value:     0.0216218227858182 cost (R^2): 104.73510914367102\n",
            "w value:  0.5336037755496394     b value:     0.0216218227858182 cost (R^2): 104.71976535033343\n",
            "w value:  0.5336037755496394     b value:     0.0216218227858182 cost (R^2): 104.70442381734813\n",
            "w value:  0.5336037755496394     b value:     0.0216218227858182 cost (R^2): 104.68908454438211\n",
            "w value:  0.5336037755496394     b value:     0.0216218227858182 cost (R^2): 104.67374753110245\n",
            "w value:  0.5336037755496394     b value:     0.0216218227858182 cost (R^2): 104.65841277717628\n",
            "w value:  0.5336037755496394     b value:     0.0216218227858182 cost (R^2): 104.64308028227074\n",
            "w value:  0.5336037755496394     b value:     0.0216218227858182 cost (R^2): 104.6277500460531\n",
            "w value:  0.5336037755496394     b value:     0.0216218227858182 cost (R^2): 104.61242206819054\n",
            "w value:  0.5336037755496394     b value:     0.0216218227858182 cost (R^2): 104.59709634835048\n",
            "w value:  0.5336037755496394     b value:     0.0216218227858182 cost (R^2): 104.58177288620016\n",
            "w value:  0.5336037755496394     b value:     0.0216218227858182 cost (R^2): 104.56645168140706\n",
            "w value:  0.5336037755496394     b value:     0.0216218227858182 cost (R^2): 104.55113273363864\n",
            "w value:  0.5336037755496394     b value:     0.0216218227858182 cost (R^2): 104.5358160425624\n",
            "w value:  0.5336037755496394     b value:     0.0216218227858182 cost (R^2): 104.52050160784592\n",
            "w value:  0.5336037755496394     b value:     0.0216218227858182 cost (R^2): 104.50518942915679\n",
            "w value:  0.5336037755496394     b value:     0.0216218227858182 cost (R^2): 104.48987950616257\n",
            "w value:  0.5336037755496394     b value:     0.0216218227858182 cost (R^2): 104.4745718385311\n",
            "w value:  0.5336037755496394     b value:     0.0216218227858182 cost (R^2): 104.45926642593011\n",
            "w value:  0.5336037755496394     b value:     0.0216218227858182 cost (R^2): 104.4439632680274\n",
            "w value:  0.5336037755496394     b value:     0.0216218227858182 cost (R^2): 104.42866236449076\n",
            "w value:  0.5336037755496394     b value:     0.0216218227858182 cost (R^2): 104.41336371498812\n",
            "w value:  0.5336037755496394     b value:     0.0216218227858182 cost (R^2): 104.3980673191875\n",
            "w value:  0.5336037755496394     b value:     0.0216218227858182 cost (R^2): 104.38277317675681\n",
            "w value:  0.5336037755496394     b value:     0.0216218227858182 cost (R^2): 104.36748128736414\n",
            "w value:  0.5336037755496394     b value:     0.0216218227858182 cost (R^2): 104.35219165067751\n",
            "w value:  0.5336037755496394     b value:     0.0216218227858182 cost (R^2): 104.33690426636518\n",
            "w value:  0.5336037755496394     b value:     0.0216218227858182 cost (R^2): 104.32161913409529\n",
            "w value:  0.5336037755496394     b value:     0.0216218227858182 cost (R^2): 104.30633625353612\n",
            "w value:  0.5336037755496394     b value:     0.0216218227858182 cost (R^2): 104.2910556243559\n",
            "w value:  0.5336037755496394     b value:     0.0216218227858182 cost (R^2): 104.27577724622299\n",
            "w value:  0.5336037755496394     b value:     0.0216218227858182 cost (R^2): 104.2605011188058\n",
            "w value:  0.5336037755496394     b value:     0.0216218227858182 cost (R^2): 104.24522724177278\n",
            "w value:  0.5336037755496394     b value:     0.0216218227858182 cost (R^2): 104.22995561479235\n",
            "w value:  0.5336037755496394     b value:     0.0216218227858182 cost (R^2): 104.21468623753309\n",
            "w value:  0.5336037755496394     b value:     0.0216218227858182 cost (R^2): 104.19941910966358\n",
            "w value:  0.5336037755496394     b value:     0.0216218227858182 cost (R^2): 104.1841542308525\n",
            "w value:  0.5336037755496394     b value:     0.0216218227858182 cost (R^2): 104.16889160076845\n",
            "w value:  0.5336037755496394     b value:     0.0216218227858182 cost (R^2): 104.1536312190802\n",
            "w value:  0.5336037755496394     b value:     0.0216218227858182 cost (R^2): 104.13837308545655\n",
            "w value:  0.5336037755496394     b value:     0.0216218227858182 cost (R^2): 104.1231171995663\n",
            "w value:  0.5336037755496394     b value:     0.0216218227858182 cost (R^2): 104.10786356107835\n",
            "w value:  0.5336037755496394     b value:     0.0216218227858182 cost (R^2): 104.09261216966162\n"
          ]
        }
      ]
    },
    {
      "cell_type": "markdown",
      "source": [
        "* Values of w,b, and R^2 for the algorithm with normal learning rate  :\n",
        "\n"
      ],
      "metadata": {
        "id": "AlooazDF3VBu"
      }
    },
    {
      "cell_type": "code",
      "source": [
        "x= np.array(parameters_fit)\n",
        "y= np.array(costs_fit)\n",
        "for i in range(len(costs_fit[:min(numberOfRows,len(costs_fit))])):\n",
        "  print(\"w value: \",x[i][0][0],\"    b value:    \",x[i][1][0],\"cost (R^2):\",y[i][0])\n"
      ],
      "metadata": {
        "colab": {
          "base_uri": "https://localhost:8080/"
        },
        "id": "oOH5SQxBYvlf",
        "outputId": "35762bd4-51e4-4971-a98d-3224f506edaa"
      },
      "execution_count": 169,
      "outputs": [
        {
          "output_type": "stream",
          "name": "stdout",
          "text": [
            "w value:  0.0     b value:     0.0 cost (R^2): 105.61345257508003\n",
            "w value:  0.49575632443277406     b value:     1.239890572849042 cost (R^2): 7.865435338433512\n",
            "w value:  0.49575632443277406     b value:     1.239890572849042 cost (R^2): 1.083431994649357\n",
            "w value:  0.49575632443277406     b value:     1.239890572849042 cost (R^2): 0.6127708945240703\n",
            "w value:  0.49575632443277406     b value:     1.239890572849042 cost (R^2): 0.5799991217784372\n",
            "w value:  0.49575632443277406     b value:     1.239890572849042 cost (R^2): 0.5776087564032285\n",
            "w value:  0.49575632443277406     b value:     1.239890572849042 cost (R^2): 0.5773263607032676\n",
            "w value:  0.49575632443277406     b value:     1.239890572849042 cost (R^2): 0.577190286193525\n",
            "w value:  0.49575632443277406     b value:     1.239890572849042 cost (R^2): 0.5770644310724442\n",
            "w value:  0.49575632443277406     b value:     1.239890572849042 cost (R^2): 0.5769393523782601\n",
            "w value:  0.49575632443277406     b value:     1.239890572849042 cost (R^2): 0.5768143949067996\n",
            "w value:  0.49575632443277406     b value:     1.239890572849042 cost (R^2): 0.5766895131601418\n",
            "w value:  0.49575632443277406     b value:     1.239890572849042 cost (R^2): 0.5765647039426118\n",
            "w value:  0.49575632443277406     b value:     1.239890572849042 cost (R^2): 0.5764399669935452\n",
            "w value:  0.49575632443277406     b value:     1.239890572849042 cost (R^2): 0.576315302255932\n",
            "w value:  0.49575632443277406     b value:     1.239890572849042 cost (R^2): 0.5761907096869171\n",
            "w value:  0.49575632443277406     b value:     1.239890572849042 cost (R^2): 0.5760661892446486\n",
            "w value:  0.49575632443277406     b value:     1.239890572849042 cost (R^2): 0.5759417408873678\n",
            "w value:  0.49575632443277406     b value:     1.239890572849042 cost (R^2): 0.5758173645733435\n",
            "w value:  0.49575632443277406     b value:     1.239890572849042 cost (R^2): 0.5756930602608711\n",
            "w value:  0.49575632443277406     b value:     1.239890572849042 cost (R^2): 0.575568827908267\n",
            "w value:  0.49575632443277406     b value:     1.239890572849042 cost (R^2): 0.5754446674738751\n",
            "w value:  0.49575632443277406     b value:     1.239890572849042 cost (R^2): 0.5753205789160609\n",
            "w value:  0.49575632443277406     b value:     1.239890572849042 cost (R^2): 0.5751965621932157\n",
            "w value:  0.49575632443277406     b value:     1.239890572849042 cost (R^2): 0.5750726172637544\n",
            "w value:  0.49575632443277406     b value:     1.239890572849042 cost (R^2): 0.5749487440861141\n",
            "w value:  0.49575632443277406     b value:     1.239890572849042 cost (R^2): 0.5748249426187592\n",
            "w value:  0.49575632443277406     b value:     1.239890572849042 cost (R^2): 0.574701212820176\n",
            "w value:  0.49575632443277406     b value:     1.239890572849042 cost (R^2): 0.5745775546488757\n",
            "w value:  0.49575632443277406     b value:     1.239890572849042 cost (R^2): 0.574453968063393\n",
            "w value:  0.49575632443277406     b value:     1.239890572849042 cost (R^2): 0.5743304530222869\n",
            "w value:  0.49575632443277406     b value:     1.239890572849042 cost (R^2): 0.57420700948414\n",
            "w value:  0.49575632443277406     b value:     1.239890572849042 cost (R^2): 0.5740836374075591\n",
            "w value:  0.49575632443277406     b value:     1.239890572849042 cost (R^2): 0.5739603367511757\n",
            "w value:  0.49575632443277406     b value:     1.239890572849042 cost (R^2): 0.5738371074736436\n",
            "w value:  0.49575632443277406     b value:     1.239890572849042 cost (R^2): 0.5737139495336433\n",
            "w value:  0.49575632443277406     b value:     1.239890572849042 cost (R^2): 0.5735908628898748\n",
            "w value:  0.49575632443277406     b value:     1.239890572849042 cost (R^2): 0.5734678475010678\n",
            "w value:  0.49575632443277406     b value:     1.239890572849042 cost (R^2): 0.5733449033259701\n",
            "w value:  0.49575632443277406     b value:     1.239890572849042 cost (R^2): 0.5732220303233568\n",
            "w value:  0.49575632443277406     b value:     1.239890572849042 cost (R^2): 0.5730992284520268\n",
            "w value:  0.49575632443277406     b value:     1.239890572849042 cost (R^2): 0.5729764976708017\n",
            "w value:  0.49575632443277406     b value:     1.239890572849042 cost (R^2): 0.5728538379385271\n",
            "w value:  0.49575632443277406     b value:     1.239890572849042 cost (R^2): 0.5727312492140725\n",
            "w value:  0.49575632443277406     b value:     1.239890572849042 cost (R^2): 0.5726087314563316\n",
            "w value:  0.49575632443277406     b value:     1.239890572849042 cost (R^2): 0.5724862846242228\n",
            "w value:  0.49575632443277406     b value:     1.239890572849042 cost (R^2): 0.5723639086766857\n",
            "w value:  0.49575632443277406     b value:     1.239890572849042 cost (R^2): 0.5722416035726859\n",
            "w value:  0.49575632443277406     b value:     1.239890572849042 cost (R^2): 0.572119369271213\n",
            "w value:  0.49575632443277406     b value:     1.239890572849042 cost (R^2): 0.5719972057312768\n",
            "w value:  0.49575632443277406     b value:     1.239890572849042 cost (R^2): 0.5718751129119151\n",
            "w value:  0.49575632443277406     b value:     1.239890572849042 cost (R^2): 0.5717530907721884\n",
            "w value:  0.49575632443277406     b value:     1.239890572849042 cost (R^2): 0.5716311392711787\n",
            "w value:  0.49575632443277406     b value:     1.239890572849042 cost (R^2): 0.5715092583679936\n",
            "w value:  0.49575632443277406     b value:     1.239890572849042 cost (R^2): 0.571387448021764\n",
            "w value:  0.49575632443277406     b value:     1.239890572849042 cost (R^2): 0.5712657081916449\n",
            "w value:  0.49575632443277406     b value:     1.239890572849042 cost (R^2): 0.5711440388368141\n",
            "w value:  0.49575632443277406     b value:     1.239890572849042 cost (R^2): 0.5710224399164728\n",
            "w value:  0.49575632443277406     b value:     1.239890572849042 cost (R^2): 0.5709009113898473\n",
            "w value:  0.49575632443277406     b value:     1.239890572849042 cost (R^2): 0.570779453216187\n",
            "w value:  0.49575632443277406     b value:     1.239890572849042 cost (R^2): 0.5706580653547627\n",
            "w value:  0.49575632443277406     b value:     1.239890572849042 cost (R^2): 0.5705367477648722\n",
            "w value:  0.49575632443277406     b value:     1.239890572849042 cost (R^2): 0.5704155004058354\n",
            "w value:  0.49575632443277406     b value:     1.239890572849042 cost (R^2): 0.5702943232369942\n",
            "w value:  0.49575632443277406     b value:     1.239890572849042 cost (R^2): 0.5701732162177167\n",
            "w value:  0.49575632443277406     b value:     1.239890572849042 cost (R^2): 0.570052179307392\n",
            "w value:  0.49575632443277406     b value:     1.239890572849042 cost (R^2): 0.5699312124654353\n",
            "w value:  0.49575632443277406     b value:     1.239890572849042 cost (R^2): 0.5698103156512836\n",
            "w value:  0.49575632443277406     b value:     1.239890572849042 cost (R^2): 0.5696894888243974\n",
            "w value:  0.49575632443277406     b value:     1.239890572849042 cost (R^2): 0.5695687319442607\n",
            "w value:  0.49575632443277406     b value:     1.239890572849042 cost (R^2): 0.5694480449703824\n",
            "w value:  0.49575632443277406     b value:     1.239890572849042 cost (R^2): 0.5693274278622926\n",
            "w value:  0.49575632443277406     b value:     1.239890572849042 cost (R^2): 0.5692068805795468\n",
            "w value:  0.49575632443277406     b value:     1.239890572849042 cost (R^2): 0.5690864030817219\n",
            "w value:  0.49575632443277406     b value:     1.239890572849042 cost (R^2): 0.5689659953284207\n",
            "w value:  0.49575632443277406     b value:     1.239890572849042 cost (R^2): 0.5688456572792675\n",
            "w value:  0.49575632443277406     b value:     1.239890572849042 cost (R^2): 0.5687253888939099\n",
            "w value:  0.49575632443277406     b value:     1.239890572849042 cost (R^2): 0.5686051901320205\n",
            "w value:  0.49575632443277406     b value:     1.239890572849042 cost (R^2): 0.5684850609532937\n",
            "w value:  0.49575632443277406     b value:     1.239890572849042 cost (R^2): 0.5683650013174474\n",
            "w value:  0.49575632443277406     b value:     1.239890572849042 cost (R^2): 0.5682450111842234\n",
            "w value:  0.49575632443277406     b value:     1.239890572849042 cost (R^2): 0.5681250905133873\n",
            "w value:  0.49575632443277406     b value:     1.239890572849042 cost (R^2): 0.568005239264726\n",
            "w value:  0.49575632443277406     b value:     1.239890572849042 cost (R^2): 0.5678854573980527\n",
            "w value:  0.49575632443277406     b value:     1.239890572849042 cost (R^2): 0.5677657448732\n",
            "w value:  0.49575632443277406     b value:     1.239890572849042 cost (R^2): 0.5676461016500276\n",
            "w value:  0.49575632443277406     b value:     1.239890572849042 cost (R^2): 0.5675265276884152\n",
            "w value:  0.49575632443277406     b value:     1.239890572849042 cost (R^2): 0.5674070229482686\n",
            "w value:  0.49575632443277406     b value:     1.239890572849042 cost (R^2): 0.567287587389515\n",
            "w value:  0.49575632443277406     b value:     1.239890572849042 cost (R^2): 0.5671682209721046\n",
            "w value:  0.49575632443277406     b value:     1.239890572849042 cost (R^2): 0.567048923656012\n",
            "w value:  0.49575632443277406     b value:     1.239890572849042 cost (R^2): 0.5669296954012348\n",
            "w value:  0.49575632443277406     b value:     1.239890572849042 cost (R^2): 0.5668105361677921\n",
            "w value:  0.49575632443277406     b value:     1.239890572849042 cost (R^2): 0.5666914459157287\n",
            "w value:  0.49575632443277406     b value:     1.239890572849042 cost (R^2): 0.5665724246051108\n",
            "w value:  0.49575632443277406     b value:     1.239890572849042 cost (R^2): 0.5664534721960276\n",
            "w value:  0.49575632443277406     b value:     1.239890572849042 cost (R^2): 0.5663345886485921\n",
            "w value:  0.49575632443277406     b value:     1.239890572849042 cost (R^2): 0.5662157739229409\n",
            "w value:  0.49575632443277406     b value:     1.239890572849042 cost (R^2): 0.5660970279792332\n",
            "w value:  0.49575632443277406     b value:     1.239890572849042 cost (R^2): 0.5659783507776498\n"
          ]
        }
      ]
    },
    {
      "cell_type": "markdown",
      "source": [
        "* Values of w,b, and R^2 for the algorithm with large learning rate  :\n",
        "\n"
      ],
      "metadata": {
        "id": "D3GE64va3XBE"
      }
    },
    {
      "cell_type": "code",
      "source": [
        "x= np.array(parameters_overfit)\n",
        "y= np.array(costs_overfit)\n",
        "for i in range(len(costs_overfit[:min(numberOfRows,len(costs_overfit))])):\n",
        "  print(\"w value: \",x[i][0][0],\"    b value:    \",x[i][1][0],\"cost (R^2):\",y[i][0])\n"
      ],
      "metadata": {
        "colab": {
          "base_uri": "https://localhost:8080/"
        },
        "id": "bJs8vCWKY2fI",
        "outputId": "2db2a342-7b02-483c-d213-3ddc730acfc5"
      },
      "execution_count": 170,
      "outputs": [
        {
          "output_type": "stream",
          "name": "stdout",
          "text": [
            "w value:  0.0     b value:     0.0 cost (R^2): 105.61345257508003\n",
            "w value:  -2.2564035201432754e+152     b value:     -7.012635798118654e+150 cost (R^2): 554527.2186618906\n",
            "w value:  -2.2564035201432754e+152     b value:     -7.012635798118654e+150 cost (R^2): 2927583002.6750703\n",
            "w value:  -2.2564035201432754e+152     b value:     -7.012635798118654e+150 cost (R^2): 15455960842137.234\n",
            "w value:  -2.2564035201432754e+152     b value:     -7.012635798118654e+150 cost (R^2): 8.159861748773221e+16\n",
            "w value:  -2.2564035201432754e+152     b value:     -7.012635798118654e+150 cost (R^2): 4.307939470030877e+20\n",
            "w value:  -2.2564035201432754e+152     b value:     -7.012635798118654e+150 cost (R^2): 2.27434520937074e+24\n",
            "w value:  -2.2564035201432754e+152     b value:     -7.012635798118654e+150 cost (R^2): 1.2007239580250097e+28\n",
            "w value:  -2.2564035201432754e+152     b value:     -7.012635798118654e+150 cost (R^2): 6.3391345229167735e+31\n",
            "w value:  -2.2564035201432754e+152     b value:     -7.012635798118654e+150 cost (R^2): 3.346699816478409e+35\n",
            "w value:  -2.2564035201432754e+152     b value:     -7.012635798118654e+150 cost (R^2): 1.766865748175206e+39\n",
            "w value:  -2.2564035201432754e+152     b value:     -7.012635798118654e+150 cost (R^2): 9.328038794228289e+42\n",
            "w value:  -2.2564035201432754e+152     b value:     -7.012635798118654e+150 cost (R^2): 4.924670017316991e+46\n",
            "w value:  -2.2564035201432754e+152     b value:     -7.012635798118654e+150 cost (R^2): 2.5999436016997544e+50\n",
            "w value:  -2.2564035201432754e+152     b value:     -7.012635798118654e+150 cost (R^2): 1.3726212534545107e+54\n",
            "w value:  -2.2564035201432754e+152     b value:     -7.012635798118654e+150 cost (R^2): 7.246653751270909e+57\n",
            "w value:  -2.2564035201432754e+152     b value:     -7.012635798118654e+150 cost (R^2): 3.825817971173433e+61\n",
            "w value:  -2.2564035201432754e+152     b value:     -7.012635798118654e+150 cost (R^2): 2.019812681954978e+65\n",
            "w value:  -2.2564035201432754e+152     b value:     -7.012635798118654e+150 cost (R^2): 1.0663453674286752e+69\n",
            "w value:  -2.2564035201432754e+152     b value:     -7.012635798118654e+150 cost (R^2): 5.629692559094163e+72\n",
            "w value:  -2.2564035201432754e+152     b value:     -7.012635798118654e+150 cost (R^2): 2.972155108278283e+76\n",
            "w value:  -2.2564035201432754e+152     b value:     -7.012635798118654e+150 cost (R^2): 1.5691276024291577e+80\n",
            "w value:  -2.2564035201432754e+152     b value:     -7.012635798118654e+150 cost (R^2): 8.284094682162676e+83\n",
            "w value:  -2.2564035201432754e+152     b value:     -7.012635798118654e+150 cost (R^2): 4.3735273407207974e+87\n",
            "w value:  -2.2564035201432754e+152     b value:     -7.012635798118654e+150 cost (R^2): 2.308971847125094e+91\n",
            "w value:  -2.2564035201432754e+152     b value:     -7.012635798118654e+150 cost (R^2): 1.2190048387665071e+95\n",
            "w value:  -2.2564035201432754e+152     b value:     -7.012635798118654e+150 cost (R^2): 6.435647098886663e+98\n",
            "w value:  -2.2564035201432754e+152     b value:     -7.012635798118654e+150 cost (R^2): 3.39765292673638e+102\n",
            "w value:  -2.2564035201432754e+152     b value:     -7.012635798118654e+150 cost (R^2): 1.7937660709452738e+106\n",
            "w value:  -2.2564035201432754e+152     b value:     -7.012635798118654e+150 cost (R^2): 9.470057085451385e+109\n",
            "w value:  -2.2564035201432754e+152     b value:     -7.012635798118654e+150 cost (R^2): 4.999647537900391e+113\n",
            "w value:  -2.2564035201432754e+152     b value:     -7.012635798118654e+150 cost (R^2): 2.6395274366017197e+117\n",
            "w value:  -2.2564035201432754e+152     b value:     -7.012635798118654e+150 cost (R^2): 1.3935192502588067e+121\n",
            "w value:  -2.2564035201432754e+152     b value:     -7.012635798118654e+150 cost (R^2): 7.356983200530684e+124\n",
            "w value:  -2.2564035201432754e+152     b value:     -7.012635798118654e+150 cost (R^2): 3.884065598866935e+128\n",
            "w value:  -2.2564035201432754e+152     b value:     -7.012635798118654e+150 cost (R^2): 2.05056409197908e+132\n",
            "w value:  -2.2564035201432754e+152     b value:     -7.012635798118654e+150 cost (R^2): 1.0825803499664432e+136\n",
            "w value:  -2.2564035201432754e+152     b value:     -7.012635798118654e+150 cost (R^2): 5.715403964780939e+139\n",
            "w value:  -2.2564035201432754e+152     b value:     -7.012635798118654e+150 cost (R^2): 3.0174058194984086e+143\n",
            "w value:  -2.2564035201432754e+152     b value:     -7.012635798118654e+150 cost (R^2): 1.5930173852360121e+147\n",
            "w value:  -2.2564035201432754e+152     b value:     -7.012635798118654e+150 cost (R^2): 8.410219047320682e+150\n",
            "w value:  -2.2564035201432754e+152     b value:     -7.012635798118654e+150 cost (R^2): 4.44011377901167e+154\n",
            "w value:  -2.2564035201432754e+152     b value:     -7.012635798118654e+150 cost (R^2): 2.3441256713581053e+158\n",
            "w value:  -2.2564035201432754e+152     b value:     -7.012635798118654e+150 cost (R^2): 1.2375640437626811e+162\n",
            "w value:  -2.2564035201432754e+152     b value:     -7.012635798118654e+150 cost (R^2): 6.533629067450571e+165\n",
            "w value:  -2.2564035201432754e+152     b value:     -7.012635798118654e+150 cost (R^2): 3.449381792092614e+169\n",
            "w value:  -2.2564035201432754e+152     b value:     -7.012635798118654e+150 cost (R^2): 1.8210759479590044e+173\n",
            "w value:  -2.2564035201432754e+152     b value:     -7.012635798118654e+150 cost (R^2): 9.614237588419862e+176\n",
            "w value:  -2.2564035201432754e+152     b value:     -7.012635798118654e+150 cost (R^2): 5.075766582397705e+180\n",
            "w value:  -2.2564035201432754e+152     b value:     -7.012635798118654e+150 cost (R^2): 2.67971393072465e+184\n",
            "w value:  -2.2564035201432754e+152     b value:     -7.012635798118654e+150 cost (R^2): 1.4147354166013747e+188\n",
            "w value:  -2.2564035201432754e+152     b value:     -7.012635798118654e+150 cost (R^2): 7.46899240265182e+191\n",
            "w value:  -2.2564035201432754e+152     b value:     -7.012635798118654e+150 cost (R^2): 3.9432000398268974e+195\n",
            "w value:  -2.2564035201432754e+152     b value:     -7.012635798118654e+150 cost (R^2): 2.0817836885963803e+199\n",
            "w value:  -2.2564035201432754e+152     b value:     -7.012635798118654e+150 cost (R^2): 1.0990625081998629e+203\n",
            "w value:  -2.2564035201432754e+152     b value:     -7.012635798118654e+150 cost (R^2): 5.802420316517195e+206\n",
            "w value:  -2.2564035201432754e+152     b value:     -7.012635798118654e+150 cost (R^2): 3.06334546746353e+210\n",
            "w value:  -2.2564035201432754e+152     b value:     -7.012635798118654e+150 cost (R^2): 1.6172708871704072e+214\n",
            "w value:  -2.2564035201432754e+152     b value:     -7.012635798118654e+150 cost (R^2): 8.538263641072967e+217\n",
            "w value:  -2.2564035201432754e+152     b value:     -7.012635798118654e+150 cost (R^2): 4.5077139879775246e+221\n",
            "w value:  -2.2564035201432754e+152     b value:     -7.012635798118654e+150 cost (R^2): 2.3798147084217677e+225\n",
            "w value:  -2.2564035201432754e+152     b value:     -7.012635798118654e+150 cost (R^2): 1.2564058104674992e+229\n",
            "w value:  -2.2564035201432754e+152     b value:     -7.012635798118654e+150 cost (R^2): 6.633102799937524e+232\n",
            "w value:  -2.2564035201432754e+152     b value:     -7.012635798118654e+150 cost (R^2): 3.5018982233270362e+236\n",
            "w value:  -2.2564035201432754e+152     b value:     -7.012635798118654e+150 cost (R^2): 1.848801614631475e+240\n",
            "w value:  -2.2564035201432754e+152     b value:     -7.012635798118654e+150 cost (R^2): 9.760613222552649e+243\n",
            "w value:  -2.2564035201432754e+152     b value:     -7.012635798118654e+150 cost (R^2): 5.1530445303759593e+247\n",
            "w value:  -2.2564035201432754e+152     b value:     -7.012635798118654e+150 cost (R^2): 2.72051225948415e+251\n",
            "w value:  -2.2564035201432754e+152     b value:     -7.012635798118654e+150 cost (R^2): 1.4362745965759348e+255\n",
            "w value:  -2.2564035201432754e+152     b value:     -7.012635798118654e+150 cost (R^2): 7.582706931673664e+258\n",
            "w value:  -2.2564035201432754e+152     b value:     -7.012635798118654e+150 cost (R^2): 4.0032347956807934e+262\n",
            "w value:  -2.2564035201432754e+152     b value:     -7.012635798118654e+150 cost (R^2): 2.113478599892587e+266\n",
            "w value:  -2.2564035201432754e+152     b value:     -7.012635798118654e+150 cost (R^2): 1.1157956053497724e+270\n",
            "w value:  -2.2564035201432754e+152     b value:     -7.012635798118654e+150 cost (R^2): 5.890761481952739e+273\n",
            "w value:  -2.2564035201432754e+152     b value:     -7.012635798118654e+150 cost (R^2): 3.109984541154394e+277\n",
            "w value:  -2.2564035201432754e+152     b value:     -7.012635798118654e+150 cost (R^2): 1.641893645813194e+281\n",
            "w value:  -2.2564035201432754e+152     b value:     -7.012635798118654e+150 cost (R^2): 8.668257698673583e+284\n",
            "w value:  -2.2564035201432754e+152     b value:     -7.012635798118654e+150 cost (R^2): 4.5763434021574107e+288\n",
            "w value:  -2.2564035201432754e+152     b value:     -7.012635798118654e+150 cost (R^2): 2.4160471068683545e+292\n",
            "w value:  -2.2564035201432754e+152     b value:     -7.012635798118654e+150 cost (R^2): 1.2755344408496743e+296\n",
            "w value:  -2.2564035201432754e+152     b value:     -7.012635798118654e+150 cost (R^2): 6.734091008277437e+299\n",
            "w value:  -2.2564035201432754e+152     b value:     -7.012635798118654e+150 cost (R^2): 3.55521421103732e+303\n"
          ]
        }
      ]
    },
    {
      "cell_type": "markdown",
      "source": [
        "# **Thank You** "
      ],
      "metadata": {
        "id": "NrssfSS23qNz"
      }
    }
  ]
}