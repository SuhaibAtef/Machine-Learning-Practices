{
  "nbformat": 4,
  "nbformat_minor": 0,
  "metadata": {
    "colab": {
      "provenance": []
    },
    "kernelspec": {
      "name": "python3",
      "display_name": "Python 3"
    },
    "language_info": {
      "name": "python"
    }
  },
  "cells": [
    {
      "cell_type": "markdown",
      "source": [
        "# Student Information"
      ],
      "metadata": {
        "id": "-HNEw5XozZuQ"
      }
    },
    {
      "cell_type": "markdown",
      "source": [
        "Author: Suhaib Atef\n",
        "\n",
        "Student ID: 132823\n",
        "\n",
        "Section: 1\n",
        "\n",
        "Class: Special Topics CPE597 (10:30-11:30)\n",
        "\n",
        "Assignment Title: Logistic Regression - Part 1\n",
        "\n",
        "Dataset Source: https://www.kaggle.com/datasets/dileep070/heart-disease-prediction-using-logistic-regression\n"
      ],
      "metadata": {
        "id": "gSVfhWc9zdPG"
      }
    },
    {
      "cell_type": "markdown",
      "source": [
        "# Assignment"
      ],
      "metadata": {
        "id": "biwGP9KP2RSN"
      }
    },
    {
      "cell_type": "markdown",
      "source": [
        "## Required Code "
      ],
      "metadata": {
        "id": "dLd3R4HC2kbk"
      }
    },
    {
      "cell_type": "markdown",
      "source": [
        "### Variables "
      ],
      "metadata": {
        "id": "YXDXyrTl2oSf"
      }
    },
    {
      "cell_type": "code",
      "execution_count": 148,
      "metadata": {
        "id": "gujPkhRUzVD5"
      },
      "outputs": [],
      "source": [
        "datasetName= \"framingham\"\n",
        "xFeatures= ['male','age','currentSmoker','prevalentStroke','prevalentHyp']\n",
        "yFeature = ['TenYearCHD']\n",
        "testPrecentage = 0.2\n",
        "learning_Rate = 0.5\n",
        "MaxiterationNumber=10000\n",
        "accuracy = 1e-4"
      ]
    },
    {
      "cell_type": "markdown",
      "source": [
        "### Libraries"
      ],
      "metadata": {
        "id": "RWE868fT2qUb"
      }
    },
    {
      "cell_type": "code",
      "source": [
        "import numpy as np \n",
        "import pandas as pd\n",
        "import math\n",
        "from sklearn.model_selection import train_test_split\n",
        "from sklearn.metrics import confusion_matrix , accuracy_score,precision_score,recall_score,roc_auc_score,auc,roc_curve"
      ],
      "metadata": {
        "id": "P6mYqxtI2u8d"
      },
      "execution_count": 37,
      "outputs": []
    },
    {
      "cell_type": "markdown",
      "source": [
        "## Data Set"
      ],
      "metadata": {
        "id": "sYhnueu_2v7k"
      }
    },
    {
      "cell_type": "markdown",
      "source": [
        "### Info about the Dataset"
      ],
      "metadata": {
        "id": "UX6hdfjK20kn"
      }
    },
    {
      "cell_type": "markdown",
      "source": [
        "The dataset is publically available on the Kaggle website, and it is from an ongoing cardiovascular study on residents of the town of Framingham, Massachusetts. \n",
        "\n",
        "The classification goal is to predict whether the patient has 10-year risk of future coronary heart disease (CHD).The dataset provides the patients’ information. It includes over 4,000 records and 15 attributes.\n",
        "\n",
        "Attributes:\n",
        "\n",
        "\n",
        "--> Demographic\n",
        "\n",
        "\n",
        "1. Sex: male or female\n",
        "2. Age: Age of the patient\n",
        "\n",
        "--> Behavioral\n",
        "\n",
        "\n",
        "1.  Current Smoker: whether or not the patient is a current smoker\n",
        "2. Cigs Per Day: the number of cigarettes that the person smoked on average in one day.\n",
        "\n",
        "\n",
        "--> Medical( history)\n",
        "\n",
        "\n",
        "1.  BP Meds: whether or not the patient was on blood pressure medication\n",
        "2. Prevalent Stroke: whether or not the patient had previously had a stroke\n",
        "3. Prevalent Hyp: whether or not the patient was hypertensive\n",
        "4. Diabetes: whether or not the patient had diabetes\n",
        "\n",
        "--> Medical(current)\n",
        "\n",
        "\n",
        "1. Tot Chol: total cholesterol level\n",
        "2. Sys BP: systolic blood pressure\n",
        "3. Dia BP: diastolic blood pressure\n",
        "4. BMI: Body Mass Index\n",
        "5. Heart Rate: heart rate\n",
        "6. Glucose: glucose level\n",
        "7. 10 year risk of coronary heart disease CHD\n"
      ],
      "metadata": {
        "id": "vBGqVWwZ25s4"
      }
    },
    {
      "cell_type": "markdown",
      "source": [
        "### Downloading the dataset"
      ],
      "metadata": {
        "id": "fJZSnVwu29p8"
      }
    },
    {
      "cell_type": "code",
      "source": [
        "!gdown 1LR6yNKK0MyB43j9YxVYPWizB9GSss-xr"
      ],
      "metadata": {
        "colab": {
          "base_uri": "https://localhost:8080/"
        },
        "id": "16_e1R3CzuIe",
        "outputId": "f3489a9b-99d2-4263-ed89-3c9926f9480e"
      },
      "execution_count": 38,
      "outputs": [
        {
          "output_type": "stream",
          "name": "stdout",
          "text": [
            "Downloading...\n",
            "From: https://drive.google.com/uc?id=1LR6yNKK0MyB43j9YxVYPWizB9GSss-xr\n",
            "To: /content/framingham.csv\n",
            "\r  0% 0.00/196k [00:00<?, ?B/s]\r100% 196k/196k [00:00<00:00, 94.0MB/s]\n"
          ]
        }
      ]
    },
    {
      "cell_type": "markdown",
      "source": [
        "### Viewing the Dataset "
      ],
      "metadata": {
        "id": "CscBaL5h3AEv"
      }
    },
    {
      "cell_type": "code",
      "source": [
        "df = pd.read_csv(datasetName+'.csv')\n",
        "\n",
        "# Check the data \n",
        "df.head(5)"
      ],
      "metadata": {
        "colab": {
          "base_uri": "https://localhost:8080/",
          "height": 206
        },
        "id": "wMOrihqFzw8U",
        "outputId": "4ef89691-b629-48b6-b493-84c65638c568"
      },
      "execution_count": 39,
      "outputs": [
        {
          "output_type": "execute_result",
          "data": {
            "text/plain": [
              "   male  age  education  currentSmoker  cigsPerDay  BPMeds  prevalentStroke  \\\n",
              "0     1   39        4.0              0         0.0     0.0                0   \n",
              "1     0   46        2.0              0         0.0     0.0                0   \n",
              "2     1   48        1.0              1        20.0     0.0                0   \n",
              "3     0   61        3.0              1        30.0     0.0                0   \n",
              "4     0   46        3.0              1        23.0     0.0                0   \n",
              "\n",
              "   prevalentHyp  diabetes  totChol  sysBP  diaBP    BMI  heartRate  glucose  \\\n",
              "0             0         0    195.0  106.0   70.0  26.97       80.0     77.0   \n",
              "1             0         0    250.0  121.0   81.0  28.73       95.0     76.0   \n",
              "2             0         0    245.0  127.5   80.0  25.34       75.0     70.0   \n",
              "3             1         0    225.0  150.0   95.0  28.58       65.0    103.0   \n",
              "4             0         0    285.0  130.0   84.0  23.10       85.0     85.0   \n",
              "\n",
              "   TenYearCHD  \n",
              "0           0  \n",
              "1           0  \n",
              "2           0  \n",
              "3           1  \n",
              "4           0  "
            ],
            "text/html": [
              "\n",
              "  <div id=\"df-307247c5-cb19-4877-ad8d-e55508da0ec9\">\n",
              "    <div class=\"colab-df-container\">\n",
              "      <div>\n",
              "<style scoped>\n",
              "    .dataframe tbody tr th:only-of-type {\n",
              "        vertical-align: middle;\n",
              "    }\n",
              "\n",
              "    .dataframe tbody tr th {\n",
              "        vertical-align: top;\n",
              "    }\n",
              "\n",
              "    .dataframe thead th {\n",
              "        text-align: right;\n",
              "    }\n",
              "</style>\n",
              "<table border=\"1\" class=\"dataframe\">\n",
              "  <thead>\n",
              "    <tr style=\"text-align: right;\">\n",
              "      <th></th>\n",
              "      <th>male</th>\n",
              "      <th>age</th>\n",
              "      <th>education</th>\n",
              "      <th>currentSmoker</th>\n",
              "      <th>cigsPerDay</th>\n",
              "      <th>BPMeds</th>\n",
              "      <th>prevalentStroke</th>\n",
              "      <th>prevalentHyp</th>\n",
              "      <th>diabetes</th>\n",
              "      <th>totChol</th>\n",
              "      <th>sysBP</th>\n",
              "      <th>diaBP</th>\n",
              "      <th>BMI</th>\n",
              "      <th>heartRate</th>\n",
              "      <th>glucose</th>\n",
              "      <th>TenYearCHD</th>\n",
              "    </tr>\n",
              "  </thead>\n",
              "  <tbody>\n",
              "    <tr>\n",
              "      <th>0</th>\n",
              "      <td>1</td>\n",
              "      <td>39</td>\n",
              "      <td>4.0</td>\n",
              "      <td>0</td>\n",
              "      <td>0.0</td>\n",
              "      <td>0.0</td>\n",
              "      <td>0</td>\n",
              "      <td>0</td>\n",
              "      <td>0</td>\n",
              "      <td>195.0</td>\n",
              "      <td>106.0</td>\n",
              "      <td>70.0</td>\n",
              "      <td>26.97</td>\n",
              "      <td>80.0</td>\n",
              "      <td>77.0</td>\n",
              "      <td>0</td>\n",
              "    </tr>\n",
              "    <tr>\n",
              "      <th>1</th>\n",
              "      <td>0</td>\n",
              "      <td>46</td>\n",
              "      <td>2.0</td>\n",
              "      <td>0</td>\n",
              "      <td>0.0</td>\n",
              "      <td>0.0</td>\n",
              "      <td>0</td>\n",
              "      <td>0</td>\n",
              "      <td>0</td>\n",
              "      <td>250.0</td>\n",
              "      <td>121.0</td>\n",
              "      <td>81.0</td>\n",
              "      <td>28.73</td>\n",
              "      <td>95.0</td>\n",
              "      <td>76.0</td>\n",
              "      <td>0</td>\n",
              "    </tr>\n",
              "    <tr>\n",
              "      <th>2</th>\n",
              "      <td>1</td>\n",
              "      <td>48</td>\n",
              "      <td>1.0</td>\n",
              "      <td>1</td>\n",
              "      <td>20.0</td>\n",
              "      <td>0.0</td>\n",
              "      <td>0</td>\n",
              "      <td>0</td>\n",
              "      <td>0</td>\n",
              "      <td>245.0</td>\n",
              "      <td>127.5</td>\n",
              "      <td>80.0</td>\n",
              "      <td>25.34</td>\n",
              "      <td>75.0</td>\n",
              "      <td>70.0</td>\n",
              "      <td>0</td>\n",
              "    </tr>\n",
              "    <tr>\n",
              "      <th>3</th>\n",
              "      <td>0</td>\n",
              "      <td>61</td>\n",
              "      <td>3.0</td>\n",
              "      <td>1</td>\n",
              "      <td>30.0</td>\n",
              "      <td>0.0</td>\n",
              "      <td>0</td>\n",
              "      <td>1</td>\n",
              "      <td>0</td>\n",
              "      <td>225.0</td>\n",
              "      <td>150.0</td>\n",
              "      <td>95.0</td>\n",
              "      <td>28.58</td>\n",
              "      <td>65.0</td>\n",
              "      <td>103.0</td>\n",
              "      <td>1</td>\n",
              "    </tr>\n",
              "    <tr>\n",
              "      <th>4</th>\n",
              "      <td>0</td>\n",
              "      <td>46</td>\n",
              "      <td>3.0</td>\n",
              "      <td>1</td>\n",
              "      <td>23.0</td>\n",
              "      <td>0.0</td>\n",
              "      <td>0</td>\n",
              "      <td>0</td>\n",
              "      <td>0</td>\n",
              "      <td>285.0</td>\n",
              "      <td>130.0</td>\n",
              "      <td>84.0</td>\n",
              "      <td>23.10</td>\n",
              "      <td>85.0</td>\n",
              "      <td>85.0</td>\n",
              "      <td>0</td>\n",
              "    </tr>\n",
              "  </tbody>\n",
              "</table>\n",
              "</div>\n",
              "      <button class=\"colab-df-convert\" onclick=\"convertToInteractive('df-307247c5-cb19-4877-ad8d-e55508da0ec9')\"\n",
              "              title=\"Convert this dataframe to an interactive table.\"\n",
              "              style=\"display:none;\">\n",
              "        \n",
              "  <svg xmlns=\"http://www.w3.org/2000/svg\" height=\"24px\"viewBox=\"0 0 24 24\"\n",
              "       width=\"24px\">\n",
              "    <path d=\"M0 0h24v24H0V0z\" fill=\"none\"/>\n",
              "    <path d=\"M18.56 5.44l.94 2.06.94-2.06 2.06-.94-2.06-.94-.94-2.06-.94 2.06-2.06.94zm-11 1L8.5 8.5l.94-2.06 2.06-.94-2.06-.94L8.5 2.5l-.94 2.06-2.06.94zm10 10l.94 2.06.94-2.06 2.06-.94-2.06-.94-.94-2.06-.94 2.06-2.06.94z\"/><path d=\"M17.41 7.96l-1.37-1.37c-.4-.4-.92-.59-1.43-.59-.52 0-1.04.2-1.43.59L10.3 9.45l-7.72 7.72c-.78.78-.78 2.05 0 2.83L4 21.41c.39.39.9.59 1.41.59.51 0 1.02-.2 1.41-.59l7.78-7.78 2.81-2.81c.8-.78.8-2.07 0-2.86zM5.41 20L4 18.59l7.72-7.72 1.47 1.35L5.41 20z\"/>\n",
              "  </svg>\n",
              "      </button>\n",
              "      \n",
              "  <style>\n",
              "    .colab-df-container {\n",
              "      display:flex;\n",
              "      flex-wrap:wrap;\n",
              "      gap: 12px;\n",
              "    }\n",
              "\n",
              "    .colab-df-convert {\n",
              "      background-color: #E8F0FE;\n",
              "      border: none;\n",
              "      border-radius: 50%;\n",
              "      cursor: pointer;\n",
              "      display: none;\n",
              "      fill: #1967D2;\n",
              "      height: 32px;\n",
              "      padding: 0 0 0 0;\n",
              "      width: 32px;\n",
              "    }\n",
              "\n",
              "    .colab-df-convert:hover {\n",
              "      background-color: #E2EBFA;\n",
              "      box-shadow: 0px 1px 2px rgba(60, 64, 67, 0.3), 0px 1px 3px 1px rgba(60, 64, 67, 0.15);\n",
              "      fill: #174EA6;\n",
              "    }\n",
              "\n",
              "    [theme=dark] .colab-df-convert {\n",
              "      background-color: #3B4455;\n",
              "      fill: #D2E3FC;\n",
              "    }\n",
              "\n",
              "    [theme=dark] .colab-df-convert:hover {\n",
              "      background-color: #434B5C;\n",
              "      box-shadow: 0px 1px 3px 1px rgba(0, 0, 0, 0.15);\n",
              "      filter: drop-shadow(0px 1px 2px rgba(0, 0, 0, 0.3));\n",
              "      fill: #FFFFFF;\n",
              "    }\n",
              "  </style>\n",
              "\n",
              "      <script>\n",
              "        const buttonEl =\n",
              "          document.querySelector('#df-307247c5-cb19-4877-ad8d-e55508da0ec9 button.colab-df-convert');\n",
              "        buttonEl.style.display =\n",
              "          google.colab.kernel.accessAllowed ? 'block' : 'none';\n",
              "\n",
              "        async function convertToInteractive(key) {\n",
              "          const element = document.querySelector('#df-307247c5-cb19-4877-ad8d-e55508da0ec9');\n",
              "          const dataTable =\n",
              "            await google.colab.kernel.invokeFunction('convertToInteractive',\n",
              "                                                     [key], {});\n",
              "          if (!dataTable) return;\n",
              "\n",
              "          const docLinkHtml = 'Like what you see? Visit the ' +\n",
              "            '<a target=\"_blank\" href=https://colab.research.google.com/notebooks/data_table.ipynb>data table notebook</a>'\n",
              "            + ' to learn more about interactive tables.';\n",
              "          element.innerHTML = '';\n",
              "          dataTable['output_type'] = 'display_data';\n",
              "          await google.colab.output.renderOutput(dataTable, element);\n",
              "          const docLink = document.createElement('div');\n",
              "          docLink.innerHTML = docLinkHtml;\n",
              "          element.appendChild(docLink);\n",
              "        }\n",
              "      </script>\n",
              "    </div>\n",
              "  </div>\n",
              "  "
            ]
          },
          "metadata": {},
          "execution_count": 39
        }
      ]
    },
    {
      "cell_type": "markdown",
      "source": [
        "## Standardization The Data Set"
      ],
      "metadata": {
        "id": "4l1CwxVDI6Z4"
      }
    },
    {
      "cell_type": "markdown",
      "source": [],
      "metadata": {
        "id": "ZgZJAkfqJBHx"
      }
    },
    {
      "cell_type": "code",
      "source": [
        "def Standardization(X):\n",
        "    mu = np.mean(X, axis=0)\n",
        "    sigma  = np.std(X, axis=0)\n",
        "    X_norm = (X - mu) / sigma      \n",
        "    return X_norm"
      ],
      "metadata": {
        "id": "y0VQtjS9Jrkh"
      },
      "execution_count": 40,
      "outputs": []
    },
    {
      "cell_type": "code",
      "source": [
        "X=df[xFeatures]\n",
        "y=df[yFeature]\n",
        "X = Standardization(X)"
      ],
      "metadata": {
        "id": "5IE1cmkQJpeO"
      },
      "execution_count": 41,
      "outputs": []
    },
    {
      "cell_type": "code",
      "source": [
        "X"
      ],
      "metadata": {
        "colab": {
          "base_uri": "https://localhost:8080/",
          "height": 424
        },
        "id": "SmbczyZYKFMp",
        "outputId": "86d6d536-bdb2-4572-c4e6-67c362585ce2"
      },
      "execution_count": 42,
      "outputs": [
        {
          "output_type": "execute_result",
          "data": {
            "text/plain": [
              "          male       age  currentSmoker  prevalentStroke  prevalentHyp\n",
              "0     1.153192 -1.234951      -0.988271        -0.077033     -0.671101\n",
              "1    -0.867158 -0.418257      -0.988271        -0.077033     -0.671101\n",
              "2     1.153192 -0.184916       1.011868        -0.077033     -0.671101\n",
              "3    -0.867158  1.331800       1.011868        -0.077033      1.490089\n",
              "4    -0.867158 -0.418257       1.011868        -0.077033     -0.671101\n",
              "...        ...       ...            ...              ...           ...\n",
              "4233  1.153192  0.048425       1.011868        -0.077033      1.490089\n",
              "4234  1.153192  0.165095       1.011868        -0.077033     -0.671101\n",
              "4235 -0.867158 -0.184916       1.011868        -0.077033     -0.671101\n",
              "4236 -0.867158 -0.651598       1.011868        -0.077033     -0.671101\n",
              "4237 -0.867158  0.281766      -0.988271        -0.077033     -0.671101\n",
              "\n",
              "[4238 rows x 5 columns]"
            ],
            "text/html": [
              "\n",
              "  <div id=\"df-80232bb1-665b-41e3-98c2-62b62ef3bdd1\">\n",
              "    <div class=\"colab-df-container\">\n",
              "      <div>\n",
              "<style scoped>\n",
              "    .dataframe tbody tr th:only-of-type {\n",
              "        vertical-align: middle;\n",
              "    }\n",
              "\n",
              "    .dataframe tbody tr th {\n",
              "        vertical-align: top;\n",
              "    }\n",
              "\n",
              "    .dataframe thead th {\n",
              "        text-align: right;\n",
              "    }\n",
              "</style>\n",
              "<table border=\"1\" class=\"dataframe\">\n",
              "  <thead>\n",
              "    <tr style=\"text-align: right;\">\n",
              "      <th></th>\n",
              "      <th>male</th>\n",
              "      <th>age</th>\n",
              "      <th>currentSmoker</th>\n",
              "      <th>prevalentStroke</th>\n",
              "      <th>prevalentHyp</th>\n",
              "    </tr>\n",
              "  </thead>\n",
              "  <tbody>\n",
              "    <tr>\n",
              "      <th>0</th>\n",
              "      <td>1.153192</td>\n",
              "      <td>-1.234951</td>\n",
              "      <td>-0.988271</td>\n",
              "      <td>-0.077033</td>\n",
              "      <td>-0.671101</td>\n",
              "    </tr>\n",
              "    <tr>\n",
              "      <th>1</th>\n",
              "      <td>-0.867158</td>\n",
              "      <td>-0.418257</td>\n",
              "      <td>-0.988271</td>\n",
              "      <td>-0.077033</td>\n",
              "      <td>-0.671101</td>\n",
              "    </tr>\n",
              "    <tr>\n",
              "      <th>2</th>\n",
              "      <td>1.153192</td>\n",
              "      <td>-0.184916</td>\n",
              "      <td>1.011868</td>\n",
              "      <td>-0.077033</td>\n",
              "      <td>-0.671101</td>\n",
              "    </tr>\n",
              "    <tr>\n",
              "      <th>3</th>\n",
              "      <td>-0.867158</td>\n",
              "      <td>1.331800</td>\n",
              "      <td>1.011868</td>\n",
              "      <td>-0.077033</td>\n",
              "      <td>1.490089</td>\n",
              "    </tr>\n",
              "    <tr>\n",
              "      <th>4</th>\n",
              "      <td>-0.867158</td>\n",
              "      <td>-0.418257</td>\n",
              "      <td>1.011868</td>\n",
              "      <td>-0.077033</td>\n",
              "      <td>-0.671101</td>\n",
              "    </tr>\n",
              "    <tr>\n",
              "      <th>...</th>\n",
              "      <td>...</td>\n",
              "      <td>...</td>\n",
              "      <td>...</td>\n",
              "      <td>...</td>\n",
              "      <td>...</td>\n",
              "    </tr>\n",
              "    <tr>\n",
              "      <th>4233</th>\n",
              "      <td>1.153192</td>\n",
              "      <td>0.048425</td>\n",
              "      <td>1.011868</td>\n",
              "      <td>-0.077033</td>\n",
              "      <td>1.490089</td>\n",
              "    </tr>\n",
              "    <tr>\n",
              "      <th>4234</th>\n",
              "      <td>1.153192</td>\n",
              "      <td>0.165095</td>\n",
              "      <td>1.011868</td>\n",
              "      <td>-0.077033</td>\n",
              "      <td>-0.671101</td>\n",
              "    </tr>\n",
              "    <tr>\n",
              "      <th>4235</th>\n",
              "      <td>-0.867158</td>\n",
              "      <td>-0.184916</td>\n",
              "      <td>1.011868</td>\n",
              "      <td>-0.077033</td>\n",
              "      <td>-0.671101</td>\n",
              "    </tr>\n",
              "    <tr>\n",
              "      <th>4236</th>\n",
              "      <td>-0.867158</td>\n",
              "      <td>-0.651598</td>\n",
              "      <td>1.011868</td>\n",
              "      <td>-0.077033</td>\n",
              "      <td>-0.671101</td>\n",
              "    </tr>\n",
              "    <tr>\n",
              "      <th>4237</th>\n",
              "      <td>-0.867158</td>\n",
              "      <td>0.281766</td>\n",
              "      <td>-0.988271</td>\n",
              "      <td>-0.077033</td>\n",
              "      <td>-0.671101</td>\n",
              "    </tr>\n",
              "  </tbody>\n",
              "</table>\n",
              "<p>4238 rows × 5 columns</p>\n",
              "</div>\n",
              "      <button class=\"colab-df-convert\" onclick=\"convertToInteractive('df-80232bb1-665b-41e3-98c2-62b62ef3bdd1')\"\n",
              "              title=\"Convert this dataframe to an interactive table.\"\n",
              "              style=\"display:none;\">\n",
              "        \n",
              "  <svg xmlns=\"http://www.w3.org/2000/svg\" height=\"24px\"viewBox=\"0 0 24 24\"\n",
              "       width=\"24px\">\n",
              "    <path d=\"M0 0h24v24H0V0z\" fill=\"none\"/>\n",
              "    <path d=\"M18.56 5.44l.94 2.06.94-2.06 2.06-.94-2.06-.94-.94-2.06-.94 2.06-2.06.94zm-11 1L8.5 8.5l.94-2.06 2.06-.94-2.06-.94L8.5 2.5l-.94 2.06-2.06.94zm10 10l.94 2.06.94-2.06 2.06-.94-2.06-.94-.94-2.06-.94 2.06-2.06.94z\"/><path d=\"M17.41 7.96l-1.37-1.37c-.4-.4-.92-.59-1.43-.59-.52 0-1.04.2-1.43.59L10.3 9.45l-7.72 7.72c-.78.78-.78 2.05 0 2.83L4 21.41c.39.39.9.59 1.41.59.51 0 1.02-.2 1.41-.59l7.78-7.78 2.81-2.81c.8-.78.8-2.07 0-2.86zM5.41 20L4 18.59l7.72-7.72 1.47 1.35L5.41 20z\"/>\n",
              "  </svg>\n",
              "      </button>\n",
              "      \n",
              "  <style>\n",
              "    .colab-df-container {\n",
              "      display:flex;\n",
              "      flex-wrap:wrap;\n",
              "      gap: 12px;\n",
              "    }\n",
              "\n",
              "    .colab-df-convert {\n",
              "      background-color: #E8F0FE;\n",
              "      border: none;\n",
              "      border-radius: 50%;\n",
              "      cursor: pointer;\n",
              "      display: none;\n",
              "      fill: #1967D2;\n",
              "      height: 32px;\n",
              "      padding: 0 0 0 0;\n",
              "      width: 32px;\n",
              "    }\n",
              "\n",
              "    .colab-df-convert:hover {\n",
              "      background-color: #E2EBFA;\n",
              "      box-shadow: 0px 1px 2px rgba(60, 64, 67, 0.3), 0px 1px 3px 1px rgba(60, 64, 67, 0.15);\n",
              "      fill: #174EA6;\n",
              "    }\n",
              "\n",
              "    [theme=dark] .colab-df-convert {\n",
              "      background-color: #3B4455;\n",
              "      fill: #D2E3FC;\n",
              "    }\n",
              "\n",
              "    [theme=dark] .colab-df-convert:hover {\n",
              "      background-color: #434B5C;\n",
              "      box-shadow: 0px 1px 3px 1px rgba(0, 0, 0, 0.15);\n",
              "      filter: drop-shadow(0px 1px 2px rgba(0, 0, 0, 0.3));\n",
              "      fill: #FFFFFF;\n",
              "    }\n",
              "  </style>\n",
              "\n",
              "      <script>\n",
              "        const buttonEl =\n",
              "          document.querySelector('#df-80232bb1-665b-41e3-98c2-62b62ef3bdd1 button.colab-df-convert');\n",
              "        buttonEl.style.display =\n",
              "          google.colab.kernel.accessAllowed ? 'block' : 'none';\n",
              "\n",
              "        async function convertToInteractive(key) {\n",
              "          const element = document.querySelector('#df-80232bb1-665b-41e3-98c2-62b62ef3bdd1');\n",
              "          const dataTable =\n",
              "            await google.colab.kernel.invokeFunction('convertToInteractive',\n",
              "                                                     [key], {});\n",
              "          if (!dataTable) return;\n",
              "\n",
              "          const docLinkHtml = 'Like what you see? Visit the ' +\n",
              "            '<a target=\"_blank\" href=https://colab.research.google.com/notebooks/data_table.ipynb>data table notebook</a>'\n",
              "            + ' to learn more about interactive tables.';\n",
              "          element.innerHTML = '';\n",
              "          dataTable['output_type'] = 'display_data';\n",
              "          await google.colab.output.renderOutput(dataTable, element);\n",
              "          const docLink = document.createElement('div');\n",
              "          docLink.innerHTML = docLinkHtml;\n",
              "          element.appendChild(docLink);\n",
              "        }\n",
              "      </script>\n",
              "    </div>\n",
              "  </div>\n",
              "  "
            ]
          },
          "metadata": {},
          "execution_count": 42
        }
      ]
    },
    {
      "cell_type": "markdown",
      "source": [],
      "metadata": {
        "id": "51Gx-9N1JpKZ"
      }
    },
    {
      "cell_type": "code",
      "source": [
        "X_train, X_test, y_train, y_test = train_test_split(X, y, test_size=testPrecentage, random_state=1)"
      ],
      "metadata": {
        "id": "24DcJV0SJEiZ"
      },
      "execution_count": 43,
      "outputs": []
    },
    {
      "cell_type": "markdown",
      "source": [
        "## Building the Logistic Function"
      ],
      "metadata": {
        "id": "LMyk76Jt3BnZ"
      }
    },
    {
      "cell_type": "markdown",
      "source": [
        "### The Sigmoid Function"
      ],
      "metadata": {
        "id": "nMF5-cdw3hId"
      }
    },
    {
      "cell_type": "code",
      "source": [
        "def sig(z):\n",
        " return 1/(1 + np.exp(-z))"
      ],
      "metadata": {
        "id": "w5ivP5uK3nNn"
      },
      "execution_count": 44,
      "outputs": []
    },
    {
      "cell_type": "markdown",
      "source": [
        "### The Cost Function\n"
      ],
      "metadata": {
        "id": "7W2HD79J3wuT"
      }
    },
    {
      "cell_type": "code",
      "source": [
        "def J(X, y, w, b):\n",
        "    m, n = X.shape\n",
        "    cost = 0\n",
        "    X = X.values.tolist()\n",
        "    y = y.values.tolist()\n",
        "\n",
        "    for i in range(m):\n",
        "        z = np.dot(X[i],w) + b\n",
        "        h = sig(z)\n",
        "        cost += -1 * y[i][0] * np.log(h) - (1-y[i][0])* np.log(1-h)\n",
        "    cost = cost/m\n",
        "    return cost"
      ],
      "metadata": {
        "id": "usBk8LQU3zdM"
      },
      "execution_count": 45,
      "outputs": []
    },
    {
      "cell_type": "markdown",
      "source": [
        "### The Gradient Function"
      ],
      "metadata": {
        "id": "vPGOGeiH4AnQ"
      }
    },
    {
      "cell_type": "code",
      "source": [
        "def gradientFunction(X, y, w, b): \n",
        "    m, n = X.shape\n",
        "    dj_dw = np.zeros(w.shape)\n",
        "    dj_db = 0.\n",
        "    X = X.values.tolist()\n",
        "    y = y.values.tolist()\n",
        "\n",
        "    for i in range(m):\n",
        "        f_wb_i = sig(np.dot(X[i],w) + b)          \n",
        "        err_i  = f_wb_i  - y[i][0]   \n",
        "        for j in range(n):\n",
        "          dj_dw[j] = dj_dw[j] + err_i * X[i][j]      \n",
        "        dj_db = dj_db + err_i\n",
        "    dj_dw = dj_dw/m                                   \n",
        "    dj_db = dj_db/m                                         \n",
        "    return dj_db, dj_dw"
      ],
      "metadata": {
        "id": "ugpqLWjG4Exr"
      },
      "execution_count": 46,
      "outputs": []
    },
    {
      "cell_type": "markdown",
      "source": [
        "### The Gradient Descent"
      ],
      "metadata": {
        "id": "KcBYTyVl4R8u"
      }
    },
    {
      "cell_type": "code",
      "source": [
        "def Gradient_Descent_Algorithm(X,Y,old_w,old_b,costFunction,gradientFunction,iterationNumber,LearningRate): \n",
        "    m = len(X)\n",
        "    J_history = []\n",
        "    w_history = []\n",
        "    \n",
        "    for i in range(iterationNumber):\n",
        "\n",
        "        dj_db, dj_dw = gradientFunction(X, y, old_w, old_b)   \n",
        "\n",
        "        # Update Parameters using w, b, alpha and gradient\n",
        "        old_w = old_w - LearningRate * dj_dw               \n",
        "        old_b = old_b - LearningRate * dj_db              \n",
        "       \n",
        "        # Save cost J at each iteration\n",
        "        if i<iterationNumber:      # prevent resource exhaustion \n",
        "            cost =  costFunction(X, y, old_w, old_b)\n",
        "            J_history.append(cost)\n",
        "        \n",
        "    return old_w, old_b #return w and J,w history for graphing\n",
        "\n"
      ],
      "metadata": {
        "id": "a1fBDPJV4Sm1"
      },
      "execution_count": 47,
      "outputs": []
    },
    {
      "cell_type": "markdown",
      "source": [
        "### Predict Function"
      ],
      "metadata": {
        "id": "V-cYfDBy4bXs"
      }
    },
    {
      "cell_type": "code",
      "source": [
        "def predict(X, w, b): \n",
        "    m, n = X.shape\n",
        "    X = X.values.tolist()   \n",
        "    predictions = np.zeros(m)\n",
        "    for i in range(m):   \n",
        "        z_wb = np.dot(X[i],w) \n",
        "        for j in range(n): \n",
        "            z_wb += 0\n",
        "        z_wb += b\n",
        "        f_wb = sig(z_wb)\n",
        "        print(f_wb)\n",
        "        predictions[i] = f_wb>0.1684\n",
        "    return predictions"
      ],
      "metadata": {
        "id": "PzdLiqR94eN7"
      },
      "execution_count": 145,
      "outputs": []
    },
    {
      "cell_type": "markdown",
      "source": [
        "## Testing The Model "
      ],
      "metadata": {
        "id": "UGbVlEMH4ppa"
      }
    },
    {
      "cell_type": "markdown",
      "source": [
        "### Applying the model to our Train Data \n",
        "In order to get the W and B parameters "
      ],
      "metadata": {
        "id": "QJNfIzppKIJA"
      }
    },
    {
      "cell_type": "code",
      "source": [
        "w_old = np.zeros(len(xFeatures))\n",
        "global_w,global_b = Gradient_Descent_Algorithm(X_train,y_train,w_old,0,J,gradientFunction,MaxiterationNumber,learning_Rate)\n"
      ],
      "metadata": {
        "id": "5mshEywERT-k"
      },
      "execution_count": 149,
      "outputs": []
    },
    {
      "cell_type": "markdown",
      "source": [
        "### Use Theta's values to predict the test sample "
      ],
      "metadata": {
        "id": "6gku0ydgKU-B"
      }
    },
    {
      "cell_type": "code",
      "source": [
        "y_predict = predict(X_test, global_w, global_b)\n",
        "n= y_test.to_numpy()\n",
        "y_test2 = []\n",
        "for item in n:\n",
        "  y_test2.append(item[0])\n",
        "y_predict"
      ],
      "metadata": {
        "id": "P8wZ0LHIoYc-"
      },
      "execution_count": null,
      "outputs": []
    },
    {
      "cell_type": "markdown",
      "source": [
        "## Metrics "
      ],
      "metadata": {
        "id": "sICNIfE5KlPg"
      }
    },
    {
      "cell_type": "code",
      "source": [
        "print('Confusion Matrix')\n",
        "tn, fp, fn, tp = confusion_matrix(y_test2,y_predict).ravel()\n",
        "print(tn)\n",
        "print(confusion_matrix(y_test2 , y_predict))\n",
        "\n",
        "print('\\nAccuracy')\n",
        "print(accuracy_score(y_test2 , y_predict))\n",
        "\n",
        "print('\\nPrecision')\n",
        "print(precision_score(y_test2, y_predict))\n",
        "\n",
        "print('\\nRecall')\n",
        "print(recall_score(y_test2, y_predict))\n",
        "\n",
        "print('\\nROC')\n",
        "print(roc_auc_score(y_test2,y_predict))"
      ],
      "metadata": {
        "colab": {
          "base_uri": "https://localhost:8080/"
        },
        "id": "DD1jqmWbwM4p",
        "outputId": "8a7dc2b1-b3ae-41da-b6d2-4c76dd700603"
      },
      "execution_count": 147,
      "outputs": [
        {
          "output_type": "stream",
          "name": "stdout",
          "text": [
            "Confusion Matrix\n",
            "666\n",
            "[[666  67]\n",
            " [108   7]]\n",
            "\n",
            "Accuracy\n",
            "0.7936320754716981\n",
            "\n",
            "Precision\n",
            "0.0945945945945946\n",
            "\n",
            "Recall\n",
            "0.06086956521739131\n",
            "\n",
            "ROC\n",
            "0.4847321905213833\n"
          ]
        }
      ]
    }
  ]
}