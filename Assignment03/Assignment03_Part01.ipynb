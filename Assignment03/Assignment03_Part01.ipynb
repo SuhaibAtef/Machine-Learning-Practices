{
  "nbformat": 4,
  "nbformat_minor": 0,
  "metadata": {
    "colab": {
      "provenance": []
    },
    "kernelspec": {
      "name": "python3",
      "display_name": "Python 3"
    },
    "language_info": {
      "name": "python"
    }
  },
  "cells": [
    {
      "cell_type": "markdown",
      "source": [
        "# Student Information\n"
      ],
      "metadata": {
        "id": "EAcGvhK8uP_2"
      }
    },
    {
      "cell_type": "markdown",
      "source": [
        "\n",
        "Author: Suhaib Atef\n",
        "\n",
        "Student ID: 132823\n",
        "\n",
        "Section: 1\n",
        "\n",
        "Class: Special Topics CPE597 (10:30-11:30)\n",
        "\n",
        "Assignment Title: Logistic Regression - Part 1\n",
        "\n",
        "Dataset Source: https://www.kaggle.com/datasets/dileep070/heart-disease-prediction-using-logistic-regression\n"
      ],
      "metadata": {
        "id": "mBAxTWoZuRZP"
      }
    },
    {
      "cell_type": "markdown",
      "source": [
        "# Assignment"
      ],
      "metadata": {
        "id": "y8fDBfaE0SmB"
      }
    },
    {
      "cell_type": "markdown",
      "source": [
        "## Required Code "
      ],
      "metadata": {
        "id": "LqxdmUrrz0rD"
      }
    },
    {
      "cell_type": "markdown",
      "source": [
        "### Variables"
      ],
      "metadata": {
        "id": "nC0ySdd-z5bC"
      }
    },
    {
      "cell_type": "code",
      "source": [
        "datasetName= \"framingham\"\n",
        "xFeatures= ['male','age','currentSmoker','prevalentStroke','prevalentHyp']\n",
        "yFeature = ['TenYearCHD']\n",
        "testPrecentage = 0.2"
      ],
      "metadata": {
        "id": "WxTLDwan_QY7"
      },
      "execution_count": 52,
      "outputs": []
    },
    {
      "cell_type": "markdown",
      "source": [
        "### Libraries"
      ],
      "metadata": {
        "id": "l9nOH3Q5z-Fu"
      }
    },
    {
      "cell_type": "code",
      "source": [
        "import pandas as pd\n",
        "import numpy as np\n",
        "import warnings\n",
        "from sklearn.exceptions import ConvergenceWarning\n",
        "from sklearn.model_selection import train_test_split\n",
        "from sklearn.preprocessing import StandardScaler\n",
        "from sklearn.linear_model import LogisticRegression\n",
        "from sklearn.pipeline import Pipeline\n",
        "from sklearn.model_selection import GridSearchCV\n",
        "from sklearn.metrics import confusion_matrix , accuracy_score,precision_score,recall_score,roc_auc_score,auc,roc_curve\n",
        "warnings.simplefilter(\"ignore\", UserWarning)\n",
        "warnings.simplefilter(\"ignore\", ConvergenceWarning)"
      ],
      "metadata": {
        "id": "I_X_Pkny3Ted"
      },
      "execution_count": 53,
      "outputs": []
    },
    {
      "cell_type": "markdown",
      "source": [
        "## Data Set "
      ],
      "metadata": {
        "id": "2dUQ2gbs0EQX"
      }
    },
    {
      "cell_type": "markdown",
      "source": [
        "### Info about the Dataset"
      ],
      "metadata": {
        "id": "YxfgQ7HC07PG"
      }
    },
    {
      "cell_type": "markdown",
      "source": [
        "The dataset is publically available on the Kaggle website, and it is from an ongoing cardiovascular study on residents of the town of Framingham, Massachusetts. \n",
        "\n",
        "The classification goal is to predict whether the patient has 10-year risk of future coronary heart disease (CHD).The dataset provides the patients’ information. It includes over 4,000 records and 15 attributes.\n",
        "\n",
        "Attributes:\n",
        "\n",
        "\n",
        "--> Demographic\n",
        "\n",
        "\n",
        "1. Sex: male or female\n",
        "2. Age: Age of the patient\n",
        "\n",
        "--> Behavioral\n",
        "\n",
        "\n",
        "1.  Current Smoker: whether or not the patient is a current smoker\n",
        "2. Cigs Per Day: the number of cigarettes that the person smoked on average in one day.\n",
        "\n",
        "\n",
        "--> Medical( history)\n",
        "\n",
        "\n",
        "1.  BP Meds: whether or not the patient was on blood pressure medication\n",
        "2. Prevalent Stroke: whether or not the patient had previously had a stroke\n",
        "3. Prevalent Hyp: whether or not the patient was hypertensive\n",
        "4. Diabetes: whether or not the patient had diabetes\n",
        "\n",
        "--> Medical(current)\n",
        "\n",
        "\n",
        "1. Tot Chol: total cholesterol level\n",
        "2. Sys BP: systolic blood pressure\n",
        "3. Dia BP: diastolic blood pressure\n",
        "4. BMI: Body Mass Index\n",
        "5. Heart Rate: heart rate\n",
        "6. Glucose: glucose level\n",
        "7. 10 year risk of coronary heart disease CHD\n"
      ],
      "metadata": {
        "id": "Hlnofhsx1Dyb"
      }
    },
    {
      "cell_type": "markdown",
      "source": [
        "### Downloading the dataset"
      ],
      "metadata": {
        "id": "O7capelY0IDI"
      }
    },
    {
      "cell_type": "code",
      "execution_count": 8,
      "metadata": {
        "colab": {
          "base_uri": "https://localhost:8080/"
        },
        "id": "i4MaJCPAt9Rm",
        "outputId": "efe36746-9463-4a32-eef2-abeb0fcbf19f"
      },
      "outputs": [
        {
          "output_type": "stream",
          "name": "stdout",
          "text": [
            "Downloading...\n",
            "From: https://drive.google.com/uc?id=1LR6yNKK0MyB43j9YxVYPWizB9GSss-xr\n",
            "To: /content/framingham.csv\n",
            "\r  0% 0.00/196k [00:00<?, ?B/s]\r100% 196k/196k [00:00<00:00, 47.5MB/s]\n"
          ]
        }
      ],
      "source": [
        "!gdown 1LR6yNKK0MyB43j9YxVYPWizB9GSss-xr"
      ]
    },
    {
      "cell_type": "markdown",
      "source": [
        "### Viewing the Dataset "
      ],
      "metadata": {
        "id": "NDz6VQxX0Lbo"
      }
    },
    {
      "cell_type": "code",
      "source": [
        "df = pd.read_csv(datasetName+'.csv')\n",
        "X=df[xFeatures]\n",
        "y=df[yFeature]\n",
        "X_train, X_test, y_train, y_test = train_test_split(X, y, test_size=testPrecentage, random_state=1)\n",
        "# Check the data \n",
        "df.head(5)"
      ],
      "metadata": {
        "colab": {
          "base_uri": "https://localhost:8080/",
          "height": 206
        },
        "id": "HSIynkRH8Fz6",
        "outputId": "553a083e-c56b-4a8d-90fd-a1051cc1e262"
      },
      "execution_count": 17,
      "outputs": [
        {
          "output_type": "execute_result",
          "data": {
            "text/plain": [
              "   male  age  education  currentSmoker  cigsPerDay  BPMeds  prevalentStroke  \\\n",
              "0     1   39        4.0              0         0.0     0.0                0   \n",
              "1     0   46        2.0              0         0.0     0.0                0   \n",
              "2     1   48        1.0              1        20.0     0.0                0   \n",
              "3     0   61        3.0              1        30.0     0.0                0   \n",
              "4     0   46        3.0              1        23.0     0.0                0   \n",
              "\n",
              "   prevalentHyp  diabetes  totChol  sysBP  diaBP    BMI  heartRate  glucose  \\\n",
              "0             0         0    195.0  106.0   70.0  26.97       80.0     77.0   \n",
              "1             0         0    250.0  121.0   81.0  28.73       95.0     76.0   \n",
              "2             0         0    245.0  127.5   80.0  25.34       75.0     70.0   \n",
              "3             1         0    225.0  150.0   95.0  28.58       65.0    103.0   \n",
              "4             0         0    285.0  130.0   84.0  23.10       85.0     85.0   \n",
              "\n",
              "   TenYearCHD  \n",
              "0           0  \n",
              "1           0  \n",
              "2           0  \n",
              "3           1  \n",
              "4           0  "
            ],
            "text/html": [
              "\n",
              "  <div id=\"df-8ee7cb91-c43f-4462-811d-cb463e4019cd\">\n",
              "    <div class=\"colab-df-container\">\n",
              "      <div>\n",
              "<style scoped>\n",
              "    .dataframe tbody tr th:only-of-type {\n",
              "        vertical-align: middle;\n",
              "    }\n",
              "\n",
              "    .dataframe tbody tr th {\n",
              "        vertical-align: top;\n",
              "    }\n",
              "\n",
              "    .dataframe thead th {\n",
              "        text-align: right;\n",
              "    }\n",
              "</style>\n",
              "<table border=\"1\" class=\"dataframe\">\n",
              "  <thead>\n",
              "    <tr style=\"text-align: right;\">\n",
              "      <th></th>\n",
              "      <th>male</th>\n",
              "      <th>age</th>\n",
              "      <th>education</th>\n",
              "      <th>currentSmoker</th>\n",
              "      <th>cigsPerDay</th>\n",
              "      <th>BPMeds</th>\n",
              "      <th>prevalentStroke</th>\n",
              "      <th>prevalentHyp</th>\n",
              "      <th>diabetes</th>\n",
              "      <th>totChol</th>\n",
              "      <th>sysBP</th>\n",
              "      <th>diaBP</th>\n",
              "      <th>BMI</th>\n",
              "      <th>heartRate</th>\n",
              "      <th>glucose</th>\n",
              "      <th>TenYearCHD</th>\n",
              "    </tr>\n",
              "  </thead>\n",
              "  <tbody>\n",
              "    <tr>\n",
              "      <th>0</th>\n",
              "      <td>1</td>\n",
              "      <td>39</td>\n",
              "      <td>4.0</td>\n",
              "      <td>0</td>\n",
              "      <td>0.0</td>\n",
              "      <td>0.0</td>\n",
              "      <td>0</td>\n",
              "      <td>0</td>\n",
              "      <td>0</td>\n",
              "      <td>195.0</td>\n",
              "      <td>106.0</td>\n",
              "      <td>70.0</td>\n",
              "      <td>26.97</td>\n",
              "      <td>80.0</td>\n",
              "      <td>77.0</td>\n",
              "      <td>0</td>\n",
              "    </tr>\n",
              "    <tr>\n",
              "      <th>1</th>\n",
              "      <td>0</td>\n",
              "      <td>46</td>\n",
              "      <td>2.0</td>\n",
              "      <td>0</td>\n",
              "      <td>0.0</td>\n",
              "      <td>0.0</td>\n",
              "      <td>0</td>\n",
              "      <td>0</td>\n",
              "      <td>0</td>\n",
              "      <td>250.0</td>\n",
              "      <td>121.0</td>\n",
              "      <td>81.0</td>\n",
              "      <td>28.73</td>\n",
              "      <td>95.0</td>\n",
              "      <td>76.0</td>\n",
              "      <td>0</td>\n",
              "    </tr>\n",
              "    <tr>\n",
              "      <th>2</th>\n",
              "      <td>1</td>\n",
              "      <td>48</td>\n",
              "      <td>1.0</td>\n",
              "      <td>1</td>\n",
              "      <td>20.0</td>\n",
              "      <td>0.0</td>\n",
              "      <td>0</td>\n",
              "      <td>0</td>\n",
              "      <td>0</td>\n",
              "      <td>245.0</td>\n",
              "      <td>127.5</td>\n",
              "      <td>80.0</td>\n",
              "      <td>25.34</td>\n",
              "      <td>75.0</td>\n",
              "      <td>70.0</td>\n",
              "      <td>0</td>\n",
              "    </tr>\n",
              "    <tr>\n",
              "      <th>3</th>\n",
              "      <td>0</td>\n",
              "      <td>61</td>\n",
              "      <td>3.0</td>\n",
              "      <td>1</td>\n",
              "      <td>30.0</td>\n",
              "      <td>0.0</td>\n",
              "      <td>0</td>\n",
              "      <td>1</td>\n",
              "      <td>0</td>\n",
              "      <td>225.0</td>\n",
              "      <td>150.0</td>\n",
              "      <td>95.0</td>\n",
              "      <td>28.58</td>\n",
              "      <td>65.0</td>\n",
              "      <td>103.0</td>\n",
              "      <td>1</td>\n",
              "    </tr>\n",
              "    <tr>\n",
              "      <th>4</th>\n",
              "      <td>0</td>\n",
              "      <td>46</td>\n",
              "      <td>3.0</td>\n",
              "      <td>1</td>\n",
              "      <td>23.0</td>\n",
              "      <td>0.0</td>\n",
              "      <td>0</td>\n",
              "      <td>0</td>\n",
              "      <td>0</td>\n",
              "      <td>285.0</td>\n",
              "      <td>130.0</td>\n",
              "      <td>84.0</td>\n",
              "      <td>23.10</td>\n",
              "      <td>85.0</td>\n",
              "      <td>85.0</td>\n",
              "      <td>0</td>\n",
              "    </tr>\n",
              "  </tbody>\n",
              "</table>\n",
              "</div>\n",
              "      <button class=\"colab-df-convert\" onclick=\"convertToInteractive('df-8ee7cb91-c43f-4462-811d-cb463e4019cd')\"\n",
              "              title=\"Convert this dataframe to an interactive table.\"\n",
              "              style=\"display:none;\">\n",
              "        \n",
              "  <svg xmlns=\"http://www.w3.org/2000/svg\" height=\"24px\"viewBox=\"0 0 24 24\"\n",
              "       width=\"24px\">\n",
              "    <path d=\"M0 0h24v24H0V0z\" fill=\"none\"/>\n",
              "    <path d=\"M18.56 5.44l.94 2.06.94-2.06 2.06-.94-2.06-.94-.94-2.06-.94 2.06-2.06.94zm-11 1L8.5 8.5l.94-2.06 2.06-.94-2.06-.94L8.5 2.5l-.94 2.06-2.06.94zm10 10l.94 2.06.94-2.06 2.06-.94-2.06-.94-.94-2.06-.94 2.06-2.06.94z\"/><path d=\"M17.41 7.96l-1.37-1.37c-.4-.4-.92-.59-1.43-.59-.52 0-1.04.2-1.43.59L10.3 9.45l-7.72 7.72c-.78.78-.78 2.05 0 2.83L4 21.41c.39.39.9.59 1.41.59.51 0 1.02-.2 1.41-.59l7.78-7.78 2.81-2.81c.8-.78.8-2.07 0-2.86zM5.41 20L4 18.59l7.72-7.72 1.47 1.35L5.41 20z\"/>\n",
              "  </svg>\n",
              "      </button>\n",
              "      \n",
              "  <style>\n",
              "    .colab-df-container {\n",
              "      display:flex;\n",
              "      flex-wrap:wrap;\n",
              "      gap: 12px;\n",
              "    }\n",
              "\n",
              "    .colab-df-convert {\n",
              "      background-color: #E8F0FE;\n",
              "      border: none;\n",
              "      border-radius: 50%;\n",
              "      cursor: pointer;\n",
              "      display: none;\n",
              "      fill: #1967D2;\n",
              "      height: 32px;\n",
              "      padding: 0 0 0 0;\n",
              "      width: 32px;\n",
              "    }\n",
              "\n",
              "    .colab-df-convert:hover {\n",
              "      background-color: #E2EBFA;\n",
              "      box-shadow: 0px 1px 2px rgba(60, 64, 67, 0.3), 0px 1px 3px 1px rgba(60, 64, 67, 0.15);\n",
              "      fill: #174EA6;\n",
              "    }\n",
              "\n",
              "    [theme=dark] .colab-df-convert {\n",
              "      background-color: #3B4455;\n",
              "      fill: #D2E3FC;\n",
              "    }\n",
              "\n",
              "    [theme=dark] .colab-df-convert:hover {\n",
              "      background-color: #434B5C;\n",
              "      box-shadow: 0px 1px 3px 1px rgba(0, 0, 0, 0.15);\n",
              "      filter: drop-shadow(0px 1px 2px rgba(0, 0, 0, 0.3));\n",
              "      fill: #FFFFFF;\n",
              "    }\n",
              "  </style>\n",
              "\n",
              "      <script>\n",
              "        const buttonEl =\n",
              "          document.querySelector('#df-8ee7cb91-c43f-4462-811d-cb463e4019cd button.colab-df-convert');\n",
              "        buttonEl.style.display =\n",
              "          google.colab.kernel.accessAllowed ? 'block' : 'none';\n",
              "\n",
              "        async function convertToInteractive(key) {\n",
              "          const element = document.querySelector('#df-8ee7cb91-c43f-4462-811d-cb463e4019cd');\n",
              "          const dataTable =\n",
              "            await google.colab.kernel.invokeFunction('convertToInteractive',\n",
              "                                                     [key], {});\n",
              "          if (!dataTable) return;\n",
              "\n",
              "          const docLinkHtml = 'Like what you see? Visit the ' +\n",
              "            '<a target=\"_blank\" href=https://colab.research.google.com/notebooks/data_table.ipynb>data table notebook</a>'\n",
              "            + ' to learn more about interactive tables.';\n",
              "          element.innerHTML = '';\n",
              "          dataTable['output_type'] = 'display_data';\n",
              "          await google.colab.output.renderOutput(dataTable, element);\n",
              "          const docLink = document.createElement('div');\n",
              "          docLink.innerHTML = docLinkHtml;\n",
              "          element.appendChild(docLink);\n",
              "        }\n",
              "      </script>\n",
              "    </div>\n",
              "  </div>\n",
              "  "
            ]
          },
          "metadata": {},
          "execution_count": 17
        }
      ]
    },
    {
      "cell_type": "markdown",
      "source": [
        "## Hyper Tuning the model"
      ],
      "metadata": {
        "id": "KlICzVwo0ZlM"
      }
    },
    {
      "cell_type": "markdown",
      "source": [
        "It usually takes approx 3 min "
      ],
      "metadata": {
        "id": "ofoZwVoEWJPb"
      }
    },
    {
      "cell_type": "code",
      "source": [
        "pipeline_model = Pipeline(steps=[(\"scaler\",StandardScaler()),(\"logistic\", LogisticRegression()) ])\n",
        "\n",
        "param_grid= {\\\n",
        "             \"scaler__copy\":[True,False],\\\n",
        "             \"scaler__with_mean\":[True,False],\\\n",
        "             \"scaler__with_std\":[True,False],\\\n",
        "             \"logistic__C\" : [0.001,0.01,0.1,1,10,100],\\\n",
        "             \"logistic__tol\": [1e-4,1e-5,1e-3,1e-2],\\\n",
        "             \"logistic__solver\":['newton-cg', 'lbfgs', 'liblinear', 'sag', 'saga'],\\\n",
        "             \"logistic__fit_intercept\":[True,False]\\\n",
        "             }\n",
        "search = GridSearchCV(pipeline_model, param_grid, cv=5 )\n",
        "search.fit(X_train.values, y_train.values.ravel())\n",
        "df_gridsearch = pd.DataFrame (search.cv_results_)\n",
        "df_gridsearch.head()"
      ],
      "metadata": {
        "colab": {
          "base_uri": "https://localhost:8080/",
          "height": 426
        },
        "id": "mTshtpNS4JSw",
        "outputId": "4f12b442-4f1f-47f8-8d4a-5115d8541a8b"
      },
      "execution_count": 34,
      "outputs": [
        {
          "output_type": "stream",
          "name": "stderr",
          "text": [
            "/usr/local/lib/python3.7/dist-packages/scipy/optimize/linesearch.py:327: LineSearchWarning: The line search algorithm did not converge\n",
            "  warn('The line search algorithm did not converge', LineSearchWarning)\n",
            "/usr/local/lib/python3.7/dist-packages/scipy/optimize/linesearch.py:327: LineSearchWarning: The line search algorithm did not converge\n",
            "  warn('The line search algorithm did not converge', LineSearchWarning)\n"
          ]
        },
        {
          "output_type": "execute_result",
          "data": {
            "text/plain": [
              "   mean_fit_time  std_fit_time  mean_score_time  std_score_time  \\\n",
              "0       0.016423      0.005713         0.000648        0.000030   \n",
              "1       0.018045      0.002764         0.000592        0.000007   \n",
              "2       0.021655      0.003395         0.000605        0.000012   \n",
              "3       0.045479      0.003991         0.000571        0.000012   \n",
              "4       0.012041      0.000334         0.000611        0.000014   \n",
              "\n",
              "  param_logistic__C param_logistic__fit_intercept param_logistic__solver  \\\n",
              "0             0.001                          True              newton-cg   \n",
              "1             0.001                          True              newton-cg   \n",
              "2             0.001                          True              newton-cg   \n",
              "3             0.001                          True              newton-cg   \n",
              "4             0.001                          True              newton-cg   \n",
              "\n",
              "  param_logistic__tol param_scaler__copy param_scaler__with_mean  \\\n",
              "0              0.0001               True                    True   \n",
              "1              0.0001               True                    True   \n",
              "2              0.0001               True                   False   \n",
              "3              0.0001               True                   False   \n",
              "4              0.0001              False                    True   \n",
              "\n",
              "  param_scaler__with_std                                             params  \\\n",
              "0                   True  {'logistic__C': 0.001, 'logistic__fit_intercep...   \n",
              "1                  False  {'logistic__C': 0.001, 'logistic__fit_intercep...   \n",
              "2                   True  {'logistic__C': 0.001, 'logistic__fit_intercep...   \n",
              "3                  False  {'logistic__C': 0.001, 'logistic__fit_intercep...   \n",
              "4                   True  {'logistic__C': 0.001, 'logistic__fit_intercep...   \n",
              "\n",
              "   split0_test_score  split1_test_score  split2_test_score  split3_test_score  \\\n",
              "0           0.845133           0.843658           0.843658           0.843658   \n",
              "1           0.845133           0.843658           0.843658           0.843658   \n",
              "2           0.845133           0.843658           0.843658           0.843658   \n",
              "3           0.845133           0.843658           0.843658           0.843658   \n",
              "4           0.845133           0.843658           0.843658           0.843658   \n",
              "\n",
              "   split4_test_score  mean_test_score  std_test_score  rank_test_score  \n",
              "0           0.843658         0.843953         0.00059              641  \n",
              "1           0.843658         0.843953         0.00059              641  \n",
              "2           0.843658         0.843953         0.00059              641  \n",
              "3           0.843658         0.843953         0.00059              641  \n",
              "4           0.843658         0.843953         0.00059              641  "
            ],
            "text/html": [
              "\n",
              "  <div id=\"df-5791b2f8-9cfd-4c6d-9a02-b283c1a59c78\">\n",
              "    <div class=\"colab-df-container\">\n",
              "      <div>\n",
              "<style scoped>\n",
              "    .dataframe tbody tr th:only-of-type {\n",
              "        vertical-align: middle;\n",
              "    }\n",
              "\n",
              "    .dataframe tbody tr th {\n",
              "        vertical-align: top;\n",
              "    }\n",
              "\n",
              "    .dataframe thead th {\n",
              "        text-align: right;\n",
              "    }\n",
              "</style>\n",
              "<table border=\"1\" class=\"dataframe\">\n",
              "  <thead>\n",
              "    <tr style=\"text-align: right;\">\n",
              "      <th></th>\n",
              "      <th>mean_fit_time</th>\n",
              "      <th>std_fit_time</th>\n",
              "      <th>mean_score_time</th>\n",
              "      <th>std_score_time</th>\n",
              "      <th>param_logistic__C</th>\n",
              "      <th>param_logistic__fit_intercept</th>\n",
              "      <th>param_logistic__solver</th>\n",
              "      <th>param_logistic__tol</th>\n",
              "      <th>param_scaler__copy</th>\n",
              "      <th>param_scaler__with_mean</th>\n",
              "      <th>param_scaler__with_std</th>\n",
              "      <th>params</th>\n",
              "      <th>split0_test_score</th>\n",
              "      <th>split1_test_score</th>\n",
              "      <th>split2_test_score</th>\n",
              "      <th>split3_test_score</th>\n",
              "      <th>split4_test_score</th>\n",
              "      <th>mean_test_score</th>\n",
              "      <th>std_test_score</th>\n",
              "      <th>rank_test_score</th>\n",
              "    </tr>\n",
              "  </thead>\n",
              "  <tbody>\n",
              "    <tr>\n",
              "      <th>0</th>\n",
              "      <td>0.016423</td>\n",
              "      <td>0.005713</td>\n",
              "      <td>0.000648</td>\n",
              "      <td>0.000030</td>\n",
              "      <td>0.001</td>\n",
              "      <td>True</td>\n",
              "      <td>newton-cg</td>\n",
              "      <td>0.0001</td>\n",
              "      <td>True</td>\n",
              "      <td>True</td>\n",
              "      <td>True</td>\n",
              "      <td>{'logistic__C': 0.001, 'logistic__fit_intercep...</td>\n",
              "      <td>0.845133</td>\n",
              "      <td>0.843658</td>\n",
              "      <td>0.843658</td>\n",
              "      <td>0.843658</td>\n",
              "      <td>0.843658</td>\n",
              "      <td>0.843953</td>\n",
              "      <td>0.00059</td>\n",
              "      <td>641</td>\n",
              "    </tr>\n",
              "    <tr>\n",
              "      <th>1</th>\n",
              "      <td>0.018045</td>\n",
              "      <td>0.002764</td>\n",
              "      <td>0.000592</td>\n",
              "      <td>0.000007</td>\n",
              "      <td>0.001</td>\n",
              "      <td>True</td>\n",
              "      <td>newton-cg</td>\n",
              "      <td>0.0001</td>\n",
              "      <td>True</td>\n",
              "      <td>True</td>\n",
              "      <td>False</td>\n",
              "      <td>{'logistic__C': 0.001, 'logistic__fit_intercep...</td>\n",
              "      <td>0.845133</td>\n",
              "      <td>0.843658</td>\n",
              "      <td>0.843658</td>\n",
              "      <td>0.843658</td>\n",
              "      <td>0.843658</td>\n",
              "      <td>0.843953</td>\n",
              "      <td>0.00059</td>\n",
              "      <td>641</td>\n",
              "    </tr>\n",
              "    <tr>\n",
              "      <th>2</th>\n",
              "      <td>0.021655</td>\n",
              "      <td>0.003395</td>\n",
              "      <td>0.000605</td>\n",
              "      <td>0.000012</td>\n",
              "      <td>0.001</td>\n",
              "      <td>True</td>\n",
              "      <td>newton-cg</td>\n",
              "      <td>0.0001</td>\n",
              "      <td>True</td>\n",
              "      <td>False</td>\n",
              "      <td>True</td>\n",
              "      <td>{'logistic__C': 0.001, 'logistic__fit_intercep...</td>\n",
              "      <td>0.845133</td>\n",
              "      <td>0.843658</td>\n",
              "      <td>0.843658</td>\n",
              "      <td>0.843658</td>\n",
              "      <td>0.843658</td>\n",
              "      <td>0.843953</td>\n",
              "      <td>0.00059</td>\n",
              "      <td>641</td>\n",
              "    </tr>\n",
              "    <tr>\n",
              "      <th>3</th>\n",
              "      <td>0.045479</td>\n",
              "      <td>0.003991</td>\n",
              "      <td>0.000571</td>\n",
              "      <td>0.000012</td>\n",
              "      <td>0.001</td>\n",
              "      <td>True</td>\n",
              "      <td>newton-cg</td>\n",
              "      <td>0.0001</td>\n",
              "      <td>True</td>\n",
              "      <td>False</td>\n",
              "      <td>False</td>\n",
              "      <td>{'logistic__C': 0.001, 'logistic__fit_intercep...</td>\n",
              "      <td>0.845133</td>\n",
              "      <td>0.843658</td>\n",
              "      <td>0.843658</td>\n",
              "      <td>0.843658</td>\n",
              "      <td>0.843658</td>\n",
              "      <td>0.843953</td>\n",
              "      <td>0.00059</td>\n",
              "      <td>641</td>\n",
              "    </tr>\n",
              "    <tr>\n",
              "      <th>4</th>\n",
              "      <td>0.012041</td>\n",
              "      <td>0.000334</td>\n",
              "      <td>0.000611</td>\n",
              "      <td>0.000014</td>\n",
              "      <td>0.001</td>\n",
              "      <td>True</td>\n",
              "      <td>newton-cg</td>\n",
              "      <td>0.0001</td>\n",
              "      <td>False</td>\n",
              "      <td>True</td>\n",
              "      <td>True</td>\n",
              "      <td>{'logistic__C': 0.001, 'logistic__fit_intercep...</td>\n",
              "      <td>0.845133</td>\n",
              "      <td>0.843658</td>\n",
              "      <td>0.843658</td>\n",
              "      <td>0.843658</td>\n",
              "      <td>0.843658</td>\n",
              "      <td>0.843953</td>\n",
              "      <td>0.00059</td>\n",
              "      <td>641</td>\n",
              "    </tr>\n",
              "  </tbody>\n",
              "</table>\n",
              "</div>\n",
              "      <button class=\"colab-df-convert\" onclick=\"convertToInteractive('df-5791b2f8-9cfd-4c6d-9a02-b283c1a59c78')\"\n",
              "              title=\"Convert this dataframe to an interactive table.\"\n",
              "              style=\"display:none;\">\n",
              "        \n",
              "  <svg xmlns=\"http://www.w3.org/2000/svg\" height=\"24px\"viewBox=\"0 0 24 24\"\n",
              "       width=\"24px\">\n",
              "    <path d=\"M0 0h24v24H0V0z\" fill=\"none\"/>\n",
              "    <path d=\"M18.56 5.44l.94 2.06.94-2.06 2.06-.94-2.06-.94-.94-2.06-.94 2.06-2.06.94zm-11 1L8.5 8.5l.94-2.06 2.06-.94-2.06-.94L8.5 2.5l-.94 2.06-2.06.94zm10 10l.94 2.06.94-2.06 2.06-.94-2.06-.94-.94-2.06-.94 2.06-2.06.94z\"/><path d=\"M17.41 7.96l-1.37-1.37c-.4-.4-.92-.59-1.43-.59-.52 0-1.04.2-1.43.59L10.3 9.45l-7.72 7.72c-.78.78-.78 2.05 0 2.83L4 21.41c.39.39.9.59 1.41.59.51 0 1.02-.2 1.41-.59l7.78-7.78 2.81-2.81c.8-.78.8-2.07 0-2.86zM5.41 20L4 18.59l7.72-7.72 1.47 1.35L5.41 20z\"/>\n",
              "  </svg>\n",
              "      </button>\n",
              "      \n",
              "  <style>\n",
              "    .colab-df-container {\n",
              "      display:flex;\n",
              "      flex-wrap:wrap;\n",
              "      gap: 12px;\n",
              "    }\n",
              "\n",
              "    .colab-df-convert {\n",
              "      background-color: #E8F0FE;\n",
              "      border: none;\n",
              "      border-radius: 50%;\n",
              "      cursor: pointer;\n",
              "      display: none;\n",
              "      fill: #1967D2;\n",
              "      height: 32px;\n",
              "      padding: 0 0 0 0;\n",
              "      width: 32px;\n",
              "    }\n",
              "\n",
              "    .colab-df-convert:hover {\n",
              "      background-color: #E2EBFA;\n",
              "      box-shadow: 0px 1px 2px rgba(60, 64, 67, 0.3), 0px 1px 3px 1px rgba(60, 64, 67, 0.15);\n",
              "      fill: #174EA6;\n",
              "    }\n",
              "\n",
              "    [theme=dark] .colab-df-convert {\n",
              "      background-color: #3B4455;\n",
              "      fill: #D2E3FC;\n",
              "    }\n",
              "\n",
              "    [theme=dark] .colab-df-convert:hover {\n",
              "      background-color: #434B5C;\n",
              "      box-shadow: 0px 1px 3px 1px rgba(0, 0, 0, 0.15);\n",
              "      filter: drop-shadow(0px 1px 2px rgba(0, 0, 0, 0.3));\n",
              "      fill: #FFFFFF;\n",
              "    }\n",
              "  </style>\n",
              "\n",
              "      <script>\n",
              "        const buttonEl =\n",
              "          document.querySelector('#df-5791b2f8-9cfd-4c6d-9a02-b283c1a59c78 button.colab-df-convert');\n",
              "        buttonEl.style.display =\n",
              "          google.colab.kernel.accessAllowed ? 'block' : 'none';\n",
              "\n",
              "        async function convertToInteractive(key) {\n",
              "          const element = document.querySelector('#df-5791b2f8-9cfd-4c6d-9a02-b283c1a59c78');\n",
              "          const dataTable =\n",
              "            await google.colab.kernel.invokeFunction('convertToInteractive',\n",
              "                                                     [key], {});\n",
              "          if (!dataTable) return;\n",
              "\n",
              "          const docLinkHtml = 'Like what you see? Visit the ' +\n",
              "            '<a target=\"_blank\" href=https://colab.research.google.com/notebooks/data_table.ipynb>data table notebook</a>'\n",
              "            + ' to learn more about interactive tables.';\n",
              "          element.innerHTML = '';\n",
              "          dataTable['output_type'] = 'display_data';\n",
              "          await google.colab.output.renderOutput(dataTable, element);\n",
              "          const docLink = document.createElement('div');\n",
              "          docLink.innerHTML = docLinkHtml;\n",
              "          element.appendChild(docLink);\n",
              "        }\n",
              "      </script>\n",
              "    </div>\n",
              "  </div>\n",
              "  "
            ]
          },
          "metadata": {},
          "execution_count": 34
        }
      ]
    },
    {
      "cell_type": "markdown",
      "source": [
        "## Results "
      ],
      "metadata": {
        "id": "g-FCQNzz0jNW"
      }
    },
    {
      "cell_type": "code",
      "source": [
        "print(search.best_params_[\"scaler__copy\"])\n",
        "print(search.best_params_[\"scaler__with_mean\"])\n",
        "print(search.best_params_[\"scaler__with_std\"])\n",
        "print(search.best_params_[\"logistic__C\"])\n",
        "print(search.best_params_[\"logistic__tol\"])\n",
        "print(search.best_params_[\"logistic__solver\"])\n",
        "print(search.best_params_[\"logistic__fit_intercept\"])"
      ],
      "metadata": {
        "colab": {
          "base_uri": "https://localhost:8080/"
        },
        "id": "ibAweS2H71sS",
        "outputId": "927a07d4-38e4-4581-cd27-8cd5c03a08a2"
      },
      "execution_count": 35,
      "outputs": [
        {
          "output_type": "stream",
          "name": "stdout",
          "text": [
            "True\n",
            "True\n",
            "True\n",
            "1\n",
            "0.0001\n",
            "newton-cg\n",
            "True\n"
          ]
        }
      ]
    },
    {
      "cell_type": "markdown",
      "source": [
        "## Building the model"
      ],
      "metadata": {
        "id": "7xza3B8s0xVk"
      }
    },
    {
      "cell_type": "code",
      "source": [
        "final_model = Pipeline(steps=[\\\n",
        "                              (\"scaler\",StandardScaler(\\\n",
        "                                                       copy=search.best_params_[\"scaler__copy\"],\\\n",
        "                                                       with_mean=search.best_params_[\"scaler__with_mean\"],\\\n",
        "                                                       with_std=search.best_params_[\"scaler__with_std\"]))\\\n",
        "                              ,(\"logistic\", LogisticRegression(\\\n",
        "                                                               C=search.best_params_[\"logistic__C\"],\\\n",
        "                                                               tol=search.best_params_[\"logistic__tol\"],\\\n",
        "                                                               solver=search.best_params_[\"logistic__solver\"],\\\n",
        "                                                               fit_intercept=search.best_params_[\"logistic__fit_intercept\"])\\\n",
        "                                ) ]\\\n",
        "                       )\n",
        "final_model.fit (X_train.values, y_train.values.ravel())\n",
        "y_predict = final_model.predict(X_test)"
      ],
      "metadata": {
        "id": "jbbuJ79JWOFl"
      },
      "execution_count": 39,
      "outputs": []
    },
    {
      "cell_type": "markdown",
      "source": [
        "## Metrics "
      ],
      "metadata": {
        "id": "p-JMXgtX00Mp"
      }
    },
    {
      "cell_type": "code",
      "source": [
        "print('Confusion Matrix')\n",
        "print(confusion_matrix(y_test , y_predict))\n",
        "\n",
        "print('\\nAccuracy')\n",
        "print(accuracy_score(y_test , y_predict))\n",
        "\n",
        "print('\\nPrecision')\n",
        "print(precision_score(y_test, y_predict))\n",
        "\n",
        "print('\\nRecall')\n",
        "print(recall_score(y_test, y_predict))\n",
        "\n",
        "y_prop = final_model.predict_proba(X_test)[:,1]\n",
        "fpr, tpr, thresholds = roc_curve(y_test, y_prop)\n",
        "print('\\nROC')\n",
        "print(roc_auc_score(y_test,y_predict))\n",
        "\n",
        "print('\\nAUC')\n",
        "print(auc(fpr, tpr))\n"
      ],
      "metadata": {
        "colab": {
          "base_uri": "https://localhost:8080/"
        },
        "id": "bqQt11wtX8VK",
        "outputId": "4fb82b60-3f1e-48e4-9e83-aef05e8c5207"
      },
      "execution_count": 51,
      "outputs": [
        {
          "output_type": "stream",
          "name": "stdout",
          "text": [
            "Confusion Matrix\n",
            "[[732   1]\n",
            " [114   1]]\n",
            "\n",
            "Accuracy\n",
            "0.8643867924528302\n",
            "\n",
            "Precision\n",
            "0.5\n",
            "\n",
            "Recall\n",
            "0.008695652173913044\n",
            "\n",
            "ROC\n",
            "0.5036656978468473\n",
            "\n",
            "AUC\n",
            "0.7251972240346403\n"
          ]
        }
      ]
    }
  ]
}